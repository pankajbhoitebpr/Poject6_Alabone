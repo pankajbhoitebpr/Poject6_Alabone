{
  "nbformat": 4,
  "nbformat_minor": 0,
  "metadata": {
    "kernelspec": {
      "display_name": "Python 3",
      "language": "python",
      "name": "python3"
    },
    "language_info": {
      "codemirror_mode": {
        "name": "ipython",
        "version": 3
      },
      "file_extension": ".py",
      "mimetype": "text/x-python",
      "name": "python",
      "nbconvert_exporter": "python",
      "pygments_lexer": "ipython3",
      "version": "3.7.3"
    },
    "colab": {
      "name": "Project 40_FE_students_survey_Final.ipynb",
      "provenance": [],
      "include_colab_link": true
    }
  },
  "cells": [
    {
      "cell_type": "markdown",
      "metadata": {
        "id": "view-in-github",
        "colab_type": "text"
      },
      "source": [
        "<a href=\"https://colab.research.google.com/github/pankajbhoitebpr/Poject6_Alabone/blob/master/Project_40_FE_students_survey_Final.ipynb\" target=\"_parent\"><img src=\"https://colab.research.google.com/assets/colab-badge.svg\" alt=\"Open In Colab\"/></a>"
      ]
    },
    {
      "cell_type": "markdown",
      "metadata": {
        "id": "4wctgIFIiiKy",
        "colab_type": "text"
      },
      "source": [
        "# First Year Engineering  Students Survey Part 1"
      ]
    },
    {
      "cell_type": "markdown",
      "metadata": {
        "id": "JoSb3cTAiiK3",
        "colab_type": "text"
      },
      "source": [
        "This is the data set of first year engineering students form one of the reputed institute of Technology."
      ]
    },
    {
      "cell_type": "markdown",
      "metadata": {
        "id": "HrIJqRPfiiK5",
        "colab_type": "text"
      },
      "source": [
        "Introduction:I am Pankaj Bhoite and today I am going to make Exploratory Data Analysis and basic Prediction model based on classification method of following problem:\n",
        "\n",
        "1.Problem Definition-Engineering is one of the best Professional course of Education,but currently so many institute are facing \n",
        "problems related to the Admission.From this survey we are trying to find out the problem of student on the basis of some questionaries e.g,what is the expectation from colleges,why you choose the institute,why your friends  did not select,from where you get the information about the institute,Dislike,whether satified from college facility Yes or not.\n",
        "I have divided this work in two parts in the first part i will apply Exploratory Data Analysis(EDA) in second part try to applying some Algorithm\n",
        "From this Analysis we make Prediction Model of the given data set to predict whether the students are satisfied from college Facility or not. \n",
        "\n",
        "Today we are going to work on a dataset which consists of information about the newly admitted students survey of engineering college whether they satisfied and from college or not,CET score and other aspects such as PCM score etc.When we work on these sort of data ,we need to see which column is important for us and which is not.Our main aim today is to make a model which can give us good prediction on whether current students are satisfied or need to improvement, because if they are satisfied then ultimately admission would be improved next time so its need to very important to make a model which can gives good prediction on the students survey.We are going to use Logistic Regression for this dataset and see if it gives us a good accuracy or not.\n",
        "\n",
        "\n",
        "First we import our libraries and  dataset and then we see the head of the data to know how the data looks like and use describe function to see the percentile’s and other key statistics.\n",
        "\n"
      ]
    },
    {
      "cell_type": "markdown",
      "metadata": {
        "id": "ZWsHypziiiK7",
        "colab_type": "text"
      },
      "source": [
        "Importing the Library"
      ]
    },
    {
      "cell_type": "code",
      "metadata": {
        "id": "C3tiPL-niiK9",
        "colab_type": "code",
        "colab": {}
      },
      "source": [
        "import pandas as pd\n",
        "import numpy as np\n",
        "import matplotlib.pyplot as plt\n",
        "import seaborn as sns\n"
      ],
      "execution_count": 0,
      "outputs": []
    },
    {
      "cell_type": "code",
      "metadata": {
        "id": "mO9UhesBiiLL",
        "colab_type": "code",
        "colab": {},
        "outputId": "2c7ccedd-4f86-476b-c028-d291cda57aa9"
      },
      "source": [
        "#uploading the .csv file\n",
        "df=pd.read_csv('FE_std_survey.csv')\n",
        "df.head()#displaying first five rows"
      ],
      "execution_count": 0,
      "outputs": [
        {
          "output_type": "execute_result",
          "data": {
            "text/html": [
              "<div>\n",
              "<style scoped>\n",
              "    .dataframe tbody tr th:only-of-type {\n",
              "        vertical-align: middle;\n",
              "    }\n",
              "\n",
              "    .dataframe tbody tr th {\n",
              "        vertical-align: top;\n",
              "    }\n",
              "\n",
              "    .dataframe thead th {\n",
              "        text-align: right;\n",
              "    }\n",
              "</style>\n",
              "<table border=\"1\" class=\"dataframe\">\n",
              "  <thead>\n",
              "    <tr style=\"text-align: right;\">\n",
              "      <th></th>\n",
              "      <th>Timestamp</th>\n",
              "      <th>Class</th>\n",
              "      <th>Branch</th>\n",
              "      <th>PCM marks(Out of 300)</th>\n",
              "      <th>CET Score</th>\n",
              "      <th>JEE score</th>\n",
              "      <th>why chose college</th>\n",
              "      <th>Reason for not selecting anyone</th>\n",
              "      <th>Dislikes</th>\n",
              "      <th>State</th>\n",
              "      <th>Satisfied from College</th>\n",
              "    </tr>\n",
              "  </thead>\n",
              "  <tbody>\n",
              "    <tr>\n",
              "      <th>0</th>\n",
              "      <td>1-30-2018 10:04:23</td>\n",
              "      <td>FE</td>\n",
              "      <td>Electrical Engineering</td>\n",
              "      <td>259</td>\n",
              "      <td>92</td>\n",
              "      <td>21</td>\n",
              "      <td>Placement, Top in North Maharashtra Region, Yo...</td>\n",
              "      <td>Fee Issue</td>\n",
              "      <td>No curriculum activity's in college</td>\n",
              "      <td>Maharashtra</td>\n",
              "      <td>YES</td>\n",
              "    </tr>\n",
              "    <tr>\n",
              "      <th>1</th>\n",
              "      <td>1-30-2018 19:00:00</td>\n",
              "      <td>F E</td>\n",
              "      <td>Mechanical Engineering</td>\n",
              "      <td>185</td>\n",
              "      <td>72</td>\n",
              "      <td>24</td>\n",
              "      <td>Result, Placement, Your relative/senior sugges...</td>\n",
              "      <td>Fee Issue, any other then specify</td>\n",
              "      <td>1 - The practical sessions are not take seriou...</td>\n",
              "      <td>Maharashtra</td>\n",
              "      <td>YES</td>\n",
              "    </tr>\n",
              "    <tr>\n",
              "      <th>2</th>\n",
              "      <td>1-29-2018 22:58:37</td>\n",
              "      <td>FE</td>\n",
              "      <td>Mechanical Engineering, Electronics and Teleco...</td>\n",
              "      <td>188</td>\n",
              "      <td>60</td>\n",
              "      <td>0</td>\n",
              "      <td>Teaching Facility</td>\n",
              "      <td>Rural area</td>\n",
              "      <td>Nothing</td>\n",
              "      <td>Maharashtra</td>\n",
              "      <td>YES</td>\n",
              "    </tr>\n",
              "    <tr>\n",
              "      <th>3</th>\n",
              "      <td>1-31-2018 15:49:43</td>\n",
              "      <td>F E</td>\n",
              "      <td>Mechanical Engineering</td>\n",
              "      <td>169</td>\n",
              "      <td>51</td>\n",
              "      <td>35</td>\n",
              "      <td>Your relative/senior suggested</td>\n",
              "      <td>Placement</td>\n",
              "      <td>Nothing</td>\n",
              "      <td>Maharashtra</td>\n",
              "      <td>YES</td>\n",
              "    </tr>\n",
              "    <tr>\n",
              "      <th>4</th>\n",
              "      <td>1-29-2018 15:05:28</td>\n",
              "      <td>FE</td>\n",
              "      <td>Computer Engineering</td>\n",
              "      <td>182</td>\n",
              "      <td>60</td>\n",
              "      <td>0</td>\n",
              "      <td>Placement, Teaching Facility, Infrastructure</td>\n",
              "      <td>Fee Issue</td>\n",
              "      <td>Nothing</td>\n",
              "      <td>Maharashtra</td>\n",
              "      <td>YES</td>\n",
              "    </tr>\n",
              "  </tbody>\n",
              "</table>\n",
              "</div>"
            ],
            "text/plain": [
              "            Timestamp Class  \\\n",
              "0  1-30-2018 10:04:23    FE   \n",
              "1  1-30-2018 19:00:00  F E    \n",
              "2  1-29-2018 22:58:37    FE   \n",
              "3  1-31-2018 15:49:43  F E    \n",
              "4  1-29-2018 15:05:28    FE   \n",
              "\n",
              "                                              Branch  PCM marks(Out of 300)  \\\n",
              "0                             Electrical Engineering                    259   \n",
              "1                             Mechanical Engineering                    185   \n",
              "2  Mechanical Engineering, Electronics and Teleco...                    188   \n",
              "3                             Mechanical Engineering                    169   \n",
              "4                               Computer Engineering                    182   \n",
              "\n",
              "   CET Score  JEE score                                  why chose college  \\\n",
              "0         92         21  Placement, Top in North Maharashtra Region, Yo...   \n",
              "1         72         24  Result, Placement, Your relative/senior sugges...   \n",
              "2         60          0                                  Teaching Facility   \n",
              "3         51         35                     Your relative/senior suggested   \n",
              "4         60          0       Placement, Teaching Facility, Infrastructure   \n",
              "\n",
              "     Reason for not selecting anyone  \\\n",
              "0                          Fee Issue   \n",
              "1  Fee Issue, any other then specify   \n",
              "2                         Rural area   \n",
              "3                          Placement   \n",
              "4                          Fee Issue   \n",
              "\n",
              "                                            Dislikes         State  \\\n",
              "0                No curriculum activity's in college   Maharashtra   \n",
              "1  1 - The practical sessions are not take seriou...   Maharashtra   \n",
              "2                                           Nothing    Maharashtra   \n",
              "3                                           Nothing   Maharashtra    \n",
              "4                                           Nothing   Maharashtra    \n",
              "\n",
              "  Satisfied from College  \n",
              "0                    YES  \n",
              "1                    YES  \n",
              "2                    YES  \n",
              "3                    YES  \n",
              "4                    YES  "
            ]
          },
          "metadata": {
            "tags": []
          },
          "execution_count": 2
        }
      ]
    },
    {
      "cell_type": "markdown",
      "metadata": {
        "id": "hu2g5v-0iiLS",
        "colab_type": "text"
      },
      "source": [
        "Details About the Dataset:\n",
        "\n",
        "As mentioned earlier the data is coming from the survey from existing First engineering students explanation of Attributes are follwing-\n",
        "\n",
        "\n",
        "Timestamp-This is the time details when student has submitted the survey.\n",
        "\n",
        "Class-Class of students.\n",
        "\n",
        "for security purpose Name of students and college name not displayed.\n",
        "\n",
        "Branch-Stream of engineering \n",
        "\n",
        "PCM -This is group of Physics ,chemistry and Mathematics.\n",
        "\n",
        "CET -Student get score in Common Entrance Test\n",
        "\n",
        "Jee-Score of Jee entrance exam.\n",
        "\n",
        "Now list of Questions\n",
        "\n",
        "why choose this college\n",
        "\n",
        "Reasons why your friends not choose this college,\n",
        "\n",
        "Dislike-Any dislike of college,Area where improvement needed\n",
        "\n",
        "state -belongs to which state get the information about the state\n",
        "Satisfied from college-Yes/No"
      ]
    },
    {
      "cell_type": "code",
      "metadata": {
        "id": "__zRXC7YiiLU",
        "colab_type": "code",
        "colab": {},
        "outputId": "26909a3e-c478-46a6-f4d8-fdb4087d068d"
      },
      "source": [
        "df.tail()#for showing the last five rows in dataset"
      ],
      "execution_count": 0,
      "outputs": [
        {
          "output_type": "execute_result",
          "data": {
            "text/html": [
              "<div>\n",
              "<style scoped>\n",
              "    .dataframe tbody tr th:only-of-type {\n",
              "        vertical-align: middle;\n",
              "    }\n",
              "\n",
              "    .dataframe tbody tr th {\n",
              "        vertical-align: top;\n",
              "    }\n",
              "\n",
              "    .dataframe thead th {\n",
              "        text-align: right;\n",
              "    }\n",
              "</style>\n",
              "<table border=\"1\" class=\"dataframe\">\n",
              "  <thead>\n",
              "    <tr style=\"text-align: right;\">\n",
              "      <th></th>\n",
              "      <th>Timestamp</th>\n",
              "      <th>Class</th>\n",
              "      <th>Branch</th>\n",
              "      <th>PCM marks(Out of 300)</th>\n",
              "      <th>CET Score</th>\n",
              "      <th>JEE score</th>\n",
              "      <th>why chose college</th>\n",
              "      <th>Reason for not selecting anyone</th>\n",
              "      <th>Dislikes</th>\n",
              "      <th>State</th>\n",
              "      <th>Satisfied from College</th>\n",
              "    </tr>\n",
              "  </thead>\n",
              "  <tbody>\n",
              "    <tr>\n",
              "      <th>137</th>\n",
              "      <td>1-25-2018 13:47:53</td>\n",
              "      <td>F E</td>\n",
              "      <td>Mechanical Engineering</td>\n",
              "      <td>213</td>\n",
              "      <td>62</td>\n",
              "      <td>0</td>\n",
              "      <td>Placement, Top in North Maharashtra Region, Te...</td>\n",
              "      <td>Fee Issue</td>\n",
              "      <td>NO</td>\n",
              "      <td>Maharashtra</td>\n",
              "      <td>YES</td>\n",
              "    </tr>\n",
              "    <tr>\n",
              "      <th>138</th>\n",
              "      <td>1-25-2018 13:51:42</td>\n",
              "      <td>FE</td>\n",
              "      <td>Mechanical Engineering</td>\n",
              "      <td>232</td>\n",
              "      <td>61</td>\n",
              "      <td>21</td>\n",
              "      <td>Result, Placement, Top in North Maharashtra Re...</td>\n",
              "      <td>Fee Issue</td>\n",
              "      <td>NOTHING</td>\n",
              "      <td>Maharashtra</td>\n",
              "      <td>YES</td>\n",
              "    </tr>\n",
              "    <tr>\n",
              "      <th>139</th>\n",
              "      <td>1-25-2018 13:46:49</td>\n",
              "      <td>F E</td>\n",
              "      <td>Mechanical Engineering</td>\n",
              "      <td>60</td>\n",
              "      <td>60</td>\n",
              "      <td>10</td>\n",
              "      <td>Infrastructure</td>\n",
              "      <td>any other then specify</td>\n",
              "      <td>Nothing</td>\n",
              "      <td>Maharashtra</td>\n",
              "      <td>YES</td>\n",
              "    </tr>\n",
              "    <tr>\n",
              "      <th>140</th>\n",
              "      <td>1-25-2018 13:50:56</td>\n",
              "      <td>FE</td>\n",
              "      <td>Mechanical Engineering</td>\n",
              "      <td>180</td>\n",
              "      <td>60</td>\n",
              "      <td>0</td>\n",
              "      <td>Placement, Top in North Maharashtra Region, Yo...</td>\n",
              "      <td>Fee Issue</td>\n",
              "      <td>no</td>\n",
              "      <td>Maharashtra</td>\n",
              "      <td>YES</td>\n",
              "    </tr>\n",
              "    <tr>\n",
              "      <th>141</th>\n",
              "      <td>1-30-2018 14:25:21</td>\n",
              "      <td>F E</td>\n",
              "      <td>Computer Engineering</td>\n",
              "      <td>200</td>\n",
              "      <td>0</td>\n",
              "      <td>0</td>\n",
              "      <td>Placement, Top in North Maharashtra Region, In...</td>\n",
              "      <td>Fee Issue</td>\n",
              "      <td>Nothing</td>\n",
              "      <td>Maharashtra</td>\n",
              "      <td>YES</td>\n",
              "    </tr>\n",
              "  </tbody>\n",
              "</table>\n",
              "</div>"
            ],
            "text/plain": [
              "              Timestamp Class                  Branch  PCM marks(Out of 300)  \\\n",
              "137  1-25-2018 13:47:53  F E   Mechanical Engineering                    213   \n",
              "138  1-25-2018 13:51:42    FE  Mechanical Engineering                    232   \n",
              "139  1-25-2018 13:46:49  F E   Mechanical Engineering                     60   \n",
              "140  1-25-2018 13:50:56    FE  Mechanical Engineering                    180   \n",
              "141  1-30-2018 14:25:21  F E     Computer Engineering                    200   \n",
              "\n",
              "     CET Score  JEE score                                  why chose college  \\\n",
              "137         62          0  Placement, Top in North Maharashtra Region, Te...   \n",
              "138         61         21  Result, Placement, Top in North Maharashtra Re...   \n",
              "139         60         10                                     Infrastructure   \n",
              "140         60          0  Placement, Top in North Maharashtra Region, Yo...   \n",
              "141          0          0  Placement, Top in North Maharashtra Region, In...   \n",
              "\n",
              "    Reason for not selecting anyone  Dislikes        State  \\\n",
              "137                       Fee Issue        NO  Maharashtra   \n",
              "138                       Fee Issue   NOTHING  Maharashtra   \n",
              "139          any other then specify  Nothing   Maharashtra   \n",
              "140                       Fee Issue        no  Maharashtra   \n",
              "141                       Fee Issue  Nothing   Maharashtra   \n",
              "\n",
              "    Satisfied from College  \n",
              "137                    YES  \n",
              "138                    YES  \n",
              "139                    YES  \n",
              "140                    YES  \n",
              "141                    YES  "
            ]
          },
          "metadata": {
            "tags": []
          },
          "execution_count": 3
        }
      ]
    },
    {
      "cell_type": "code",
      "metadata": {
        "id": "SVyhRUhkiiLa",
        "colab_type": "code",
        "colab": {},
        "outputId": "98c3473e-2b07-463d-e7e0-34b22242118f"
      },
      "source": [
        "df.isnull().sum()# for displaying the null values"
      ],
      "execution_count": 0,
      "outputs": [
        {
          "output_type": "execute_result",
          "data": {
            "text/plain": [
              "Timestamp                          0\n",
              "Class                              0\n",
              "Branch                             0\n",
              "PCM marks(Out of 300)              0\n",
              "CET Score                          0\n",
              "JEE score                          0\n",
              "why chose college                  0\n",
              "Reason for not selecting anyone    0\n",
              "Dislikes                           0\n",
              "State                              0\n",
              "Satisfied from College             0\n",
              "dtype: int64"
            ]
          },
          "metadata": {
            "tags": []
          },
          "execution_count": 4
        }
      ]
    },
    {
      "cell_type": "markdown",
      "metadata": {
        "id": "TiFjtJoWiiLj",
        "colab_type": "text"
      },
      "source": [
        "good news no null values inside the datasets."
      ]
    },
    {
      "cell_type": "code",
      "metadata": {
        "id": "6HefOkNliiLm",
        "colab_type": "code",
        "colab": {},
        "outputId": "c55a94e9-7d88-45a6-cd47-587c6f31202d"
      },
      "source": [
        "df.info() #displaying information about the dataset"
      ],
      "execution_count": 0,
      "outputs": [
        {
          "output_type": "stream",
          "text": [
            "<class 'pandas.core.frame.DataFrame'>\n",
            "RangeIndex: 142 entries, 0 to 141\n",
            "Data columns (total 11 columns):\n",
            "Timestamp                          142 non-null object\n",
            "Class                              142 non-null object\n",
            "Branch                             142 non-null object\n",
            "PCM marks(Out of 300)              142 non-null int64\n",
            "CET Score                          142 non-null int64\n",
            "JEE score                          142 non-null int64\n",
            "why chose college                  142 non-null object\n",
            "Reason for not selecting anyone    142 non-null object\n",
            "Dislikes                           142 non-null object\n",
            "State                              142 non-null object\n",
            "Satisfied from College             142 non-null object\n",
            "dtypes: int64(3), object(8)\n",
            "memory usage: 12.3+ KB\n"
          ],
          "name": "stdout"
        }
      ]
    },
    {
      "cell_type": "code",
      "metadata": {
        "id": "94Xm3Is9iiLu",
        "colab_type": "code",
        "colab": {},
        "outputId": "e6135598-9381-4507-89b9-807da34fb7b0"
      },
      "source": [
        "df.Branch.value_counts(normalize=True).plot(kind='bar');"
      ],
      "execution_count": 0,
      "outputs": [
        {
          "output_type": "display_data",
          "data": {
            "image/png": "[encoded data removed]",
            "text/plain": [
              "<Figure size 432x288 with 1 Axes>"
            ]
          },
          "metadata": {
            "tags": [],
            "needs_background": "light"
          }
        }
      ]
    },
    {
      "cell_type": "markdown",
      "metadata": {
        "id": "H3McEjeNiiL0",
        "colab_type": "text"
      },
      "source": [
        "So here we can see that 60% students selecting Mechanical Branch,18%arround chose Computer and 15% has choosen E&TC.\n"
      ]
    },
    {
      "cell_type": "code",
      "metadata": {
        "id": "terJoOCHiiL2",
        "colab_type": "code",
        "colab": {},
        "outputId": "41acf69d-30fe-442e-f4d8-8f0056329e84"
      },
      "source": [
        "df.State.value_counts(normalize=True).plot(kind='bar');"
      ],
      "execution_count": 0,
      "outputs": [
        {
          "output_type": "display_data",
          "data": {
            "image/png": "[encoded data removed]",
            "text/plain": [
              "<Figure size 432x288 with 1 Axes>"
            ]
          },
          "metadata": {
            "tags": [],
            "needs_background": "light"
          }
        }
      ]
    },
    {
      "cell_type": "markdown",
      "metadata": {
        "id": "3JW1kuv6iiL7",
        "colab_type": "text"
      },
      "source": [
        "The will be located in Maharastra more then 98% students are belongs to Maharastra and arrund 2% from MadhyaPradesh"
      ]
    },
    {
      "cell_type": "code",
      "metadata": {
        "id": "sv6dWk5ZiiMA",
        "colab_type": "code",
        "colab": {}
      },
      "source": [
        ""
      ],
      "execution_count": 0,
      "outputs": []
    },
    {
      "cell_type": "code",
      "metadata": {
        "id": "lTwVeDFbiiMG",
        "colab_type": "code",
        "colab": {},
        "outputId": "6243cf93-22b1-4153-8688-5d4ffa26eb96"
      },
      "source": [
        "df[\"why chose college\"]=df[\"why chose college\"].str.split(\",\")\n",
        "df[\"why chose college\"]=df[\"why chose college\"].str[0]\n",
        "df.head(2)"
      ],
      "execution_count": 0,
      "outputs": [
        {
          "output_type": "execute_result",
          "data": {
            "text/html": [
              "<div>\n",
              "<style scoped>\n",
              "    .dataframe tbody tr th:only-of-type {\n",
              "        vertical-align: middle;\n",
              "    }\n",
              "\n",
              "    .dataframe tbody tr th {\n",
              "        vertical-align: top;\n",
              "    }\n",
              "\n",
              "    .dataframe thead th {\n",
              "        text-align: right;\n",
              "    }\n",
              "</style>\n",
              "<table border=\"1\" class=\"dataframe\">\n",
              "  <thead>\n",
              "    <tr style=\"text-align: right;\">\n",
              "      <th></th>\n",
              "      <th>Timestamp</th>\n",
              "      <th>Class</th>\n",
              "      <th>Branch</th>\n",
              "      <th>PCM marks(Out of 300)</th>\n",
              "      <th>CET Score</th>\n",
              "      <th>JEE score</th>\n",
              "      <th>why chose college</th>\n",
              "      <th>Reason for not selecting anyone</th>\n",
              "      <th>Dislikes</th>\n",
              "      <th>State</th>\n",
              "      <th>Satisfied from College</th>\n",
              "    </tr>\n",
              "  </thead>\n",
              "  <tbody>\n",
              "    <tr>\n",
              "      <th>0</th>\n",
              "      <td>1-30-2018 10:04:23</td>\n",
              "      <td>FE</td>\n",
              "      <td>Electrical Engineering</td>\n",
              "      <td>259</td>\n",
              "      <td>92</td>\n",
              "      <td>21</td>\n",
              "      <td>Placement</td>\n",
              "      <td>Fee Issue</td>\n",
              "      <td>No curriculum activity's in college</td>\n",
              "      <td>Maharashtra</td>\n",
              "      <td>YES</td>\n",
              "    </tr>\n",
              "    <tr>\n",
              "      <th>1</th>\n",
              "      <td>1-30-2018 19:00:00</td>\n",
              "      <td>F E</td>\n",
              "      <td>Mechanical Engineering</td>\n",
              "      <td>185</td>\n",
              "      <td>72</td>\n",
              "      <td>24</td>\n",
              "      <td>Result</td>\n",
              "      <td>Fee Issue, any other then specify</td>\n",
              "      <td>1 - The practical sessions are not take seriou...</td>\n",
              "      <td>Maharashtra</td>\n",
              "      <td>YES</td>\n",
              "    </tr>\n",
              "  </tbody>\n",
              "</table>\n",
              "</div>"
            ],
            "text/plain": [
              "            Timestamp Class                  Branch  PCM marks(Out of 300)  \\\n",
              "0  1-30-2018 10:04:23    FE  Electrical Engineering                    259   \n",
              "1  1-30-2018 19:00:00  F E   Mechanical Engineering                    185   \n",
              "\n",
              "   CET Score  JEE score why chose college    Reason for not selecting anyone  \\\n",
              "0         92         21         Placement                          Fee Issue   \n",
              "1         72         24            Result  Fee Issue, any other then specify   \n",
              "\n",
              "                                            Dislikes        State  \\\n",
              "0                No curriculum activity's in college  Maharashtra   \n",
              "1  1 - The practical sessions are not take seriou...  Maharashtra   \n",
              "\n",
              "  Satisfied from College  \n",
              "0                    YES  \n",
              "1                    YES  "
            ]
          },
          "metadata": {
            "tags": []
          },
          "execution_count": 8
        }
      ]
    },
    {
      "cell_type": "code",
      "metadata": {
        "id": "9KGc4lJCiiMN",
        "colab_type": "code",
        "colab": {},
        "outputId": "788301b7-f218-4eed-de8c-ab19c835d665"
      },
      "source": [
        "df[\"Reason for not selecting anyone\"]=df[\"Reason for not selecting anyone\"].str.split(\",\")\n",
        "df[\"Reason for not selecting anyone\"]=df[\"Reason for not selecting anyone\"].str[0]\n",
        "df.head(2)"
      ],
      "execution_count": 0,
      "outputs": [
        {
          "output_type": "execute_result",
          "data": {
            "text/html": [
              "<div>\n",
              "<style scoped>\n",
              "    .dataframe tbody tr th:only-of-type {\n",
              "        vertical-align: middle;\n",
              "    }\n",
              "\n",
              "    .dataframe tbody tr th {\n",
              "        vertical-align: top;\n",
              "    }\n",
              "\n",
              "    .dataframe thead th {\n",
              "        text-align: right;\n",
              "    }\n",
              "</style>\n",
              "<table border=\"1\" class=\"dataframe\">\n",
              "  <thead>\n",
              "    <tr style=\"text-align: right;\">\n",
              "      <th></th>\n",
              "      <th>Timestamp</th>\n",
              "      <th>Class</th>\n",
              "      <th>Branch</th>\n",
              "      <th>PCM marks(Out of 300)</th>\n",
              "      <th>CET Score</th>\n",
              "      <th>JEE score</th>\n",
              "      <th>why chose college</th>\n",
              "      <th>Reason for not selecting anyone</th>\n",
              "      <th>Dislikes</th>\n",
              "      <th>State</th>\n",
              "      <th>Satisfied from College</th>\n",
              "    </tr>\n",
              "  </thead>\n",
              "  <tbody>\n",
              "    <tr>\n",
              "      <th>0</th>\n",
              "      <td>1-30-2018 10:04:23</td>\n",
              "      <td>FE</td>\n",
              "      <td>Electrical Engineering</td>\n",
              "      <td>259</td>\n",
              "      <td>92</td>\n",
              "      <td>21</td>\n",
              "      <td>Placement</td>\n",
              "      <td>Fee Issue</td>\n",
              "      <td>No curriculum activity's in college</td>\n",
              "      <td>Maharashtra</td>\n",
              "      <td>YES</td>\n",
              "    </tr>\n",
              "    <tr>\n",
              "      <th>1</th>\n",
              "      <td>1-30-2018 19:00:00</td>\n",
              "      <td>F E</td>\n",
              "      <td>Mechanical Engineering</td>\n",
              "      <td>185</td>\n",
              "      <td>72</td>\n",
              "      <td>24</td>\n",
              "      <td>Result</td>\n",
              "      <td>Fee Issue</td>\n",
              "      <td>1 - The practical sessions are not take seriou...</td>\n",
              "      <td>Maharashtra</td>\n",
              "      <td>YES</td>\n",
              "    </tr>\n",
              "  </tbody>\n",
              "</table>\n",
              "</div>"
            ],
            "text/plain": [
              "            Timestamp Class                  Branch  PCM marks(Out of 300)  \\\n",
              "0  1-30-2018 10:04:23    FE  Electrical Engineering                    259   \n",
              "1  1-30-2018 19:00:00  F E   Mechanical Engineering                    185   \n",
              "\n",
              "   CET Score  JEE score why chose college Reason for not selecting anyone  \\\n",
              "0         92         21         Placement                       Fee Issue   \n",
              "1         72         24            Result                       Fee Issue   \n",
              "\n",
              "                                            Dislikes        State  \\\n",
              "0                No curriculum activity's in college  Maharashtra   \n",
              "1  1 - The practical sessions are not take seriou...  Maharashtra   \n",
              "\n",
              "  Satisfied from College  \n",
              "0                    YES  \n",
              "1                    YES  "
            ]
          },
          "metadata": {
            "tags": []
          },
          "execution_count": 9
        }
      ]
    },
    {
      "cell_type": "code",
      "metadata": {
        "id": "MjONxLeJiiMR",
        "colab_type": "code",
        "colab": {},
        "outputId": "0ea00d2b-3049-430a-9d27-72537ad8e512"
      },
      "source": [
        "df[\"Dislikes\"]=df[\"Dislikes\"].str.split(\",\")\n",
        "df[\"Dislikes\"]=df[\"Dislikes\"].str[0]\n",
        "df.head(2)"
      ],
      "execution_count": 0,
      "outputs": [
        {
          "output_type": "execute_result",
          "data": {
            "text/html": [
              "<div>\n",
              "<style scoped>\n",
              "    .dataframe tbody tr th:only-of-type {\n",
              "        vertical-align: middle;\n",
              "    }\n",
              "\n",
              "    .dataframe tbody tr th {\n",
              "        vertical-align: top;\n",
              "    }\n",
              "\n",
              "    .dataframe thead th {\n",
              "        text-align: right;\n",
              "    }\n",
              "</style>\n",
              "<table border=\"1\" class=\"dataframe\">\n",
              "  <thead>\n",
              "    <tr style=\"text-align: right;\">\n",
              "      <th></th>\n",
              "      <th>Timestamp</th>\n",
              "      <th>Class</th>\n",
              "      <th>Branch</th>\n",
              "      <th>PCM marks(Out of 300)</th>\n",
              "      <th>CET Score</th>\n",
              "      <th>JEE score</th>\n",
              "      <th>why chose college</th>\n",
              "      <th>Reason for not selecting anyone</th>\n",
              "      <th>Dislikes</th>\n",
              "      <th>State</th>\n",
              "      <th>Satisfied from College</th>\n",
              "    </tr>\n",
              "  </thead>\n",
              "  <tbody>\n",
              "    <tr>\n",
              "      <th>0</th>\n",
              "      <td>1-30-2018 10:04:23</td>\n",
              "      <td>FE</td>\n",
              "      <td>Electrical Engineering</td>\n",
              "      <td>259</td>\n",
              "      <td>92</td>\n",
              "      <td>21</td>\n",
              "      <td>Placement</td>\n",
              "      <td>Fee Issue</td>\n",
              "      <td>No curriculum activity's in college</td>\n",
              "      <td>Maharashtra</td>\n",
              "      <td>YES</td>\n",
              "    </tr>\n",
              "    <tr>\n",
              "      <th>1</th>\n",
              "      <td>1-30-2018 19:00:00</td>\n",
              "      <td>F E</td>\n",
              "      <td>Mechanical Engineering</td>\n",
              "      <td>185</td>\n",
              "      <td>72</td>\n",
              "      <td>24</td>\n",
              "      <td>Result</td>\n",
              "      <td>Fee Issue</td>\n",
              "      <td>1 - The practical sessions are not take seriou...</td>\n",
              "      <td>Maharashtra</td>\n",
              "      <td>YES</td>\n",
              "    </tr>\n",
              "  </tbody>\n",
              "</table>\n",
              "</div>"
            ],
            "text/plain": [
              "            Timestamp Class                  Branch  PCM marks(Out of 300)  \\\n",
              "0  1-30-2018 10:04:23    FE  Electrical Engineering                    259   \n",
              "1  1-30-2018 19:00:00  F E   Mechanical Engineering                    185   \n",
              "\n",
              "   CET Score  JEE score why chose college Reason for not selecting anyone  \\\n",
              "0         92         21         Placement                       Fee Issue   \n",
              "1         72         24            Result                       Fee Issue   \n",
              "\n",
              "                                            Dislikes        State  \\\n",
              "0                No curriculum activity's in college  Maharashtra   \n",
              "1  1 - The practical sessions are not take seriou...  Maharashtra   \n",
              "\n",
              "  Satisfied from College  \n",
              "0                    YES  \n",
              "1                    YES  "
            ]
          },
          "metadata": {
            "tags": []
          },
          "execution_count": 10
        }
      ]
    },
    {
      "cell_type": "code",
      "metadata": {
        "id": "UjrifXAmiiMa",
        "colab_type": "code",
        "colab": {},
        "outputId": "c5750730-5332-4a17-b537-64ed80bb3488"
      },
      "source": [
        "df.Dislikes.value_counts(normalize=True).plot(kind='bar',figsize=(16,7));"
      ],
      "execution_count": 0,
      "outputs": [
        {
          "output_type": "display_data",
          "data": {
            "image/png": "[encoded data removed]",
            "text/plain": [
              "<Figure size 1152x504 with 1 Axes>"
            ]
          },
          "metadata": {
            "tags": [],
            "needs_background": "light"
          }
        }
      ]
    },
    {
      "cell_type": "markdown",
      "metadata": {
        "id": "4yVE3U4AiiMi",
        "colab_type": "text"
      },
      "source": [
        "Here we can see that the 50% students doesnt have any problems but some of have issues out of those most \n",
        "common issues is related to the (1)No Extracurricular Activities held in the school(2)college time is too much\n",
        "(3)Practical sessioned no taken seriously\n",
        "College should be work on the issues.\n"
      ]
    },
    {
      "cell_type": "code",
      "metadata": {
        "id": "GWHBNOLdiiMp",
        "colab_type": "code",
        "colab": {},
        "outputId": "906fc185-5a8a-4780-a043-097f3e7e7010"
      },
      "source": [
        "\n",
        "df[\"why_choose\"]=df[\"why chose college\"]\n",
        "df[\"why chose college\"]=df[\"why chose college\"]\n",
        "df.head(2)"
      ],
      "execution_count": 0,
      "outputs": [
        {
          "output_type": "execute_result",
          "data": {
            "text/html": [
              "<div>\n",
              "<style scoped>\n",
              "    .dataframe tbody tr th:only-of-type {\n",
              "        vertical-align: middle;\n",
              "    }\n",
              "\n",
              "    .dataframe tbody tr th {\n",
              "        vertical-align: top;\n",
              "    }\n",
              "\n",
              "    .dataframe thead th {\n",
              "        text-align: right;\n",
              "    }\n",
              "</style>\n",
              "<table border=\"1\" class=\"dataframe\">\n",
              "  <thead>\n",
              "    <tr style=\"text-align: right;\">\n",
              "      <th></th>\n",
              "      <th>Timestamp</th>\n",
              "      <th>Class</th>\n",
              "      <th>Branch</th>\n",
              "      <th>PCM marks(Out of 300)</th>\n",
              "      <th>CET Score</th>\n",
              "      <th>JEE score</th>\n",
              "      <th>why chose college</th>\n",
              "      <th>Reason for not selecting anyone</th>\n",
              "      <th>Dislikes</th>\n",
              "      <th>State</th>\n",
              "      <th>Satisfied from College</th>\n",
              "      <th>why_choose</th>\n",
              "    </tr>\n",
              "  </thead>\n",
              "  <tbody>\n",
              "    <tr>\n",
              "      <th>0</th>\n",
              "      <td>1-30-2018 10:04:23</td>\n",
              "      <td>FE</td>\n",
              "      <td>Electrical Engineering</td>\n",
              "      <td>259</td>\n",
              "      <td>92</td>\n",
              "      <td>21</td>\n",
              "      <td>Placement</td>\n",
              "      <td>Fee Issue</td>\n",
              "      <td>No curriculum activity's in college</td>\n",
              "      <td>Maharashtra</td>\n",
              "      <td>YES</td>\n",
              "      <td>Placement</td>\n",
              "    </tr>\n",
              "    <tr>\n",
              "      <th>1</th>\n",
              "      <td>1-30-2018 19:00:00</td>\n",
              "      <td>F E</td>\n",
              "      <td>Mechanical Engineering</td>\n",
              "      <td>185</td>\n",
              "      <td>72</td>\n",
              "      <td>24</td>\n",
              "      <td>Result</td>\n",
              "      <td>Fee Issue</td>\n",
              "      <td>1 - The practical sessions are not take seriou...</td>\n",
              "      <td>Maharashtra</td>\n",
              "      <td>YES</td>\n",
              "      <td>Result</td>\n",
              "    </tr>\n",
              "  </tbody>\n",
              "</table>\n",
              "</div>"
            ],
            "text/plain": [
              "            Timestamp Class                  Branch  PCM marks(Out of 300)  \\\n",
              "0  1-30-2018 10:04:23    FE  Electrical Engineering                    259   \n",
              "1  1-30-2018 19:00:00  F E   Mechanical Engineering                    185   \n",
              "\n",
              "   CET Score  JEE score why chose college Reason for not selecting anyone  \\\n",
              "0         92         21         Placement                       Fee Issue   \n",
              "1         72         24            Result                       Fee Issue   \n",
              "\n",
              "                                            Dislikes        State  \\\n",
              "0                No curriculum activity's in college  Maharashtra   \n",
              "1  1 - The practical sessions are not take seriou...  Maharashtra   \n",
              "\n",
              "  Satisfied from College why_choose  \n",
              "0                    YES  Placement  \n",
              "1                    YES     Result  "
            ]
          },
          "metadata": {
            "tags": []
          },
          "execution_count": 12
        }
      ]
    },
    {
      "cell_type": "markdown",
      "metadata": {
        "id": "yFqfpVCZiiMv",
        "colab_type": "text"
      },
      "source": [
        "Here the name of column-why college chose attribute is too long so we need to change name of column  new name we have to write \n",
        "why_choose"
      ]
    },
    {
      "cell_type": "code",
      "metadata": {
        "id": "ylVi4qtwiiMw",
        "colab_type": "code",
        "colab": {},
        "outputId": "ee1030ce-de17-488b-dbc5-432ab62477e3"
      },
      "source": [
        "df.why_choose.value_counts(normalize=True).plot(kind='bar');"
      ],
      "execution_count": 0,
      "outputs": [
        {
          "output_type": "display_data",
          "data": {
            "image/png": "[encoded data removed]",
            "text/plain": [
              "<Figure size 432x288 with 1 Axes>"
            ]
          },
          "metadata": {
            "tags": [],
            "needs_background": "light"
          }
        }
      ]
    },
    {
      "cell_type": "markdown",
      "metadata": {
        "id": "tYrRfAl2iiM3",
        "colab_type": "text"
      },
      "source": [
        "So here we can see that the most of the students opted the college due to the Placement-35%,Result-30%,Tecahing-15%"
      ]
    },
    {
      "cell_type": "code",
      "metadata": {
        "id": "L5KzkZIpiiM4",
        "colab_type": "code",
        "colab": {}
      },
      "source": [
        "df.drop('why chose college',axis=1,inplace=True)\n"
      ],
      "execution_count": 0,
      "outputs": []
    },
    {
      "cell_type": "code",
      "metadata": {
        "id": "J8JYCYq_iiM-",
        "colab_type": "code",
        "colab": {},
        "outputId": "1bb864bd-d71d-4cbd-9b02-dd40e5f89391"
      },
      "source": [
        "#Need to change name of column of Reason for not select any one\n",
        "df[\"Reason_not_select\"]=df[\"Reason for not selecting anyone\"]\n",
        "df[\"Reason for not selecting anyone\"]=df[\"Reason for not selecting anyone\"]\n",
        "df.head(2)\n"
      ],
      "execution_count": 0,
      "outputs": [
        {
          "output_type": "execute_result",
          "data": {
            "text/html": [
              "<div>\n",
              "<style scoped>\n",
              "    .dataframe tbody tr th:only-of-type {\n",
              "        vertical-align: middle;\n",
              "    }\n",
              "\n",
              "    .dataframe tbody tr th {\n",
              "        vertical-align: top;\n",
              "    }\n",
              "\n",
              "    .dataframe thead th {\n",
              "        text-align: right;\n",
              "    }\n",
              "</style>\n",
              "<table border=\"1\" class=\"dataframe\">\n",
              "  <thead>\n",
              "    <tr style=\"text-align: right;\">\n",
              "      <th></th>\n",
              "      <th>Timestamp</th>\n",
              "      <th>Class</th>\n",
              "      <th>Branch</th>\n",
              "      <th>PCM marks(Out of 300)</th>\n",
              "      <th>CET Score</th>\n",
              "      <th>JEE score</th>\n",
              "      <th>Reason for not selecting anyone</th>\n",
              "      <th>Dislikes</th>\n",
              "      <th>State</th>\n",
              "      <th>Satisfied from College</th>\n",
              "      <th>why_choose</th>\n",
              "      <th>Reason_not_select</th>\n",
              "    </tr>\n",
              "  </thead>\n",
              "  <tbody>\n",
              "    <tr>\n",
              "      <th>0</th>\n",
              "      <td>1-30-2018 10:04:23</td>\n",
              "      <td>FE</td>\n",
              "      <td>Electrical Engineering</td>\n",
              "      <td>259</td>\n",
              "      <td>92</td>\n",
              "      <td>21</td>\n",
              "      <td>Fee Issue</td>\n",
              "      <td>No curriculum activity's in college</td>\n",
              "      <td>Maharashtra</td>\n",
              "      <td>YES</td>\n",
              "      <td>Placement</td>\n",
              "      <td>Fee Issue</td>\n",
              "    </tr>\n",
              "    <tr>\n",
              "      <th>1</th>\n",
              "      <td>1-30-2018 19:00:00</td>\n",
              "      <td>F E</td>\n",
              "      <td>Mechanical Engineering</td>\n",
              "      <td>185</td>\n",
              "      <td>72</td>\n",
              "      <td>24</td>\n",
              "      <td>Fee Issue</td>\n",
              "      <td>1 - The practical sessions are not take seriou...</td>\n",
              "      <td>Maharashtra</td>\n",
              "      <td>YES</td>\n",
              "      <td>Result</td>\n",
              "      <td>Fee Issue</td>\n",
              "    </tr>\n",
              "  </tbody>\n",
              "</table>\n",
              "</div>"
            ],
            "text/plain": [
              "            Timestamp Class                  Branch  PCM marks(Out of 300)  \\\n",
              "0  1-30-2018 10:04:23    FE  Electrical Engineering                    259   \n",
              "1  1-30-2018 19:00:00  F E   Mechanical Engineering                    185   \n",
              "\n",
              "   CET Score  JEE score Reason for not selecting anyone  \\\n",
              "0         92         21                       Fee Issue   \n",
              "1         72         24                       Fee Issue   \n",
              "\n",
              "                                            Dislikes        State  \\\n",
              "0                No curriculum activity's in college  Maharashtra   \n",
              "1  1 - The practical sessions are not take seriou...  Maharashtra   \n",
              "\n",
              "  Satisfied from College why_choose Reason_not_select  \n",
              "0                    YES  Placement         Fee Issue  \n",
              "1                    YES     Result         Fee Issue  "
            ]
          },
          "metadata": {
            "tags": []
          },
          "execution_count": 15
        }
      ]
    },
    {
      "cell_type": "code",
      "metadata": {
        "id": "83Z9svBPiiND",
        "colab_type": "code",
        "colab": {},
        "outputId": "a27ea951-052d-4d6c-e0f3-82277bd62a03"
      },
      "source": [
        "#we already rename this column need to remove it.\n",
        "df.drop('Reason for not selecting anyone',axis=1,inplace=True)\n",
        "df.head(2)"
      ],
      "execution_count": 0,
      "outputs": [
        {
          "output_type": "execute_result",
          "data": {
            "text/html": [
              "<div>\n",
              "<style scoped>\n",
              "    .dataframe tbody tr th:only-of-type {\n",
              "        vertical-align: middle;\n",
              "    }\n",
              "\n",
              "    .dataframe tbody tr th {\n",
              "        vertical-align: top;\n",
              "    }\n",
              "\n",
              "    .dataframe thead th {\n",
              "        text-align: right;\n",
              "    }\n",
              "</style>\n",
              "<table border=\"1\" class=\"dataframe\">\n",
              "  <thead>\n",
              "    <tr style=\"text-align: right;\">\n",
              "      <th></th>\n",
              "      <th>Timestamp</th>\n",
              "      <th>Class</th>\n",
              "      <th>Branch</th>\n",
              "      <th>PCM marks(Out of 300)</th>\n",
              "      <th>CET Score</th>\n",
              "      <th>JEE score</th>\n",
              "      <th>Dislikes</th>\n",
              "      <th>State</th>\n",
              "      <th>Satisfied from College</th>\n",
              "      <th>why_choose</th>\n",
              "      <th>Reason_not_select</th>\n",
              "    </tr>\n",
              "  </thead>\n",
              "  <tbody>\n",
              "    <tr>\n",
              "      <th>0</th>\n",
              "      <td>1-30-2018 10:04:23</td>\n",
              "      <td>FE</td>\n",
              "      <td>Electrical Engineering</td>\n",
              "      <td>259</td>\n",
              "      <td>92</td>\n",
              "      <td>21</td>\n",
              "      <td>No curriculum activity's in college</td>\n",
              "      <td>Maharashtra</td>\n",
              "      <td>YES</td>\n",
              "      <td>Placement</td>\n",
              "      <td>Fee Issue</td>\n",
              "    </tr>\n",
              "    <tr>\n",
              "      <th>1</th>\n",
              "      <td>1-30-2018 19:00:00</td>\n",
              "      <td>F E</td>\n",
              "      <td>Mechanical Engineering</td>\n",
              "      <td>185</td>\n",
              "      <td>72</td>\n",
              "      <td>24</td>\n",
              "      <td>1 - The practical sessions are not take seriou...</td>\n",
              "      <td>Maharashtra</td>\n",
              "      <td>YES</td>\n",
              "      <td>Result</td>\n",
              "      <td>Fee Issue</td>\n",
              "    </tr>\n",
              "  </tbody>\n",
              "</table>\n",
              "</div>"
            ],
            "text/plain": [
              "            Timestamp Class                  Branch  PCM marks(Out of 300)  \\\n",
              "0  1-30-2018 10:04:23    FE  Electrical Engineering                    259   \n",
              "1  1-30-2018 19:00:00  F E   Mechanical Engineering                    185   \n",
              "\n",
              "   CET Score  JEE score                                           Dislikes  \\\n",
              "0         92         21                No curriculum activity's in college   \n",
              "1         72         24  1 - The practical sessions are not take seriou...   \n",
              "\n",
              "         State Satisfied from College why_choose Reason_not_select  \n",
              "0  Maharashtra                    YES  Placement         Fee Issue  \n",
              "1  Maharashtra                    YES     Result         Fee Issue  "
            ]
          },
          "metadata": {
            "tags": []
          },
          "execution_count": 16
        }
      ]
    },
    {
      "cell_type": "code",
      "metadata": {
        "id": "qvoQ3_xPiiNL",
        "colab_type": "code",
        "colab": {},
        "outputId": "93bf42e5-d2dd-4182-825a-20787ec3d1b6"
      },
      "source": [
        "df.Reason_not_select.value_counts(normalize=True).plot(kind='bar');"
      ],
      "execution_count": 0,
      "outputs": [
        {
          "output_type": "display_data",
          "data": {
            "image/png": "[encoded data removed]",
            "text/plain": [
              "<Figure size 432x288 with 1 Axes>"
            ]
          },
          "metadata": {
            "tags": [],
            "needs_background": "light"
          }
        }
      ]
    },
    {
      "cell_type": "markdown",
      "metadata": {
        "id": "Jg0fqiCuiiNU",
        "colab_type": "text"
      },
      "source": [
        "Now we can see that Arround 55% says that their frinds not taken the Admission due to Fee Issue.\n",
        "\n",
        "Arround 25% students says that due to College located at Remot/Rural place.\n",
        "This is very important in our analysis and also for the college also to know about the why some of students not take admission.\n"
      ]
    },
    {
      "cell_type": "markdown",
      "metadata": {
        "id": "tsiS86RXiiNV",
        "colab_type": "text"
      },
      "source": [
        "Now we change the column name Satisfied from college we rename it\"satisfied_college\"\n",
        "\n",
        "This is very important Attribute to our analysis this is the output variable.\n",
        "\n",
        "whether  students are satisfied or not?"
      ]
    },
    {
      "cell_type": "code",
      "metadata": {
        "id": "YGkk0XUyiiNY",
        "colab_type": "code",
        "colab": {},
        "outputId": "d23db7f1-5e7c-47dc-d363-6bd2e0eaf2aa"
      },
      "source": [
        "df[\"satisfied_college\"]=df[\"Satisfied from College\"]\n",
        "df[\"Satisfied from College\"]=df[\"Satisfied from College\"]\n",
        "df.drop('Satisfied from College',axis=1,inplace=True)\n",
        "\n",
        "df.head(2)"
      ],
      "execution_count": 0,
      "outputs": [
        {
          "output_type": "execute_result",
          "data": {
            "text/html": [
              "<div>\n",
              "<style scoped>\n",
              "    .dataframe tbody tr th:only-of-type {\n",
              "        vertical-align: middle;\n",
              "    }\n",
              "\n",
              "    .dataframe tbody tr th {\n",
              "        vertical-align: top;\n",
              "    }\n",
              "\n",
              "    .dataframe thead th {\n",
              "        text-align: right;\n",
              "    }\n",
              "</style>\n",
              "<table border=\"1\" class=\"dataframe\">\n",
              "  <thead>\n",
              "    <tr style=\"text-align: right;\">\n",
              "      <th></th>\n",
              "      <th>Timestamp</th>\n",
              "      <th>Class</th>\n",
              "      <th>Branch</th>\n",
              "      <th>PCM marks(Out of 300)</th>\n",
              "      <th>CET Score</th>\n",
              "      <th>JEE score</th>\n",
              "      <th>Dislikes</th>\n",
              "      <th>State</th>\n",
              "      <th>why_choose</th>\n",
              "      <th>Reason_not_select</th>\n",
              "      <th>satisfied_college</th>\n",
              "    </tr>\n",
              "  </thead>\n",
              "  <tbody>\n",
              "    <tr>\n",
              "      <th>0</th>\n",
              "      <td>1-30-2018 10:04:23</td>\n",
              "      <td>FE</td>\n",
              "      <td>Electrical Engineering</td>\n",
              "      <td>259</td>\n",
              "      <td>92</td>\n",
              "      <td>21</td>\n",
              "      <td>No curriculum activity's in college</td>\n",
              "      <td>Maharashtra</td>\n",
              "      <td>Placement</td>\n",
              "      <td>Fee Issue</td>\n",
              "      <td>YES</td>\n",
              "    </tr>\n",
              "    <tr>\n",
              "      <th>1</th>\n",
              "      <td>1-30-2018 19:00:00</td>\n",
              "      <td>F E</td>\n",
              "      <td>Mechanical Engineering</td>\n",
              "      <td>185</td>\n",
              "      <td>72</td>\n",
              "      <td>24</td>\n",
              "      <td>1 - The practical sessions are not take seriou...</td>\n",
              "      <td>Maharashtra</td>\n",
              "      <td>Result</td>\n",
              "      <td>Fee Issue</td>\n",
              "      <td>YES</td>\n",
              "    </tr>\n",
              "  </tbody>\n",
              "</table>\n",
              "</div>"
            ],
            "text/plain": [
              "            Timestamp Class                  Branch  PCM marks(Out of 300)  \\\n",
              "0  1-30-2018 10:04:23    FE  Electrical Engineering                    259   \n",
              "1  1-30-2018 19:00:00  F E   Mechanical Engineering                    185   \n",
              "\n",
              "   CET Score  JEE score                                           Dislikes  \\\n",
              "0         92         21                No curriculum activity's in college   \n",
              "1         72         24  1 - The practical sessions are not take seriou...   \n",
              "\n",
              "         State why_choose Reason_not_select satisfied_college  \n",
              "0  Maharashtra  Placement         Fee Issue               YES  \n",
              "1  Maharashtra     Result         Fee Issue               YES  "
            ]
          },
          "metadata": {
            "tags": []
          },
          "execution_count": 18
        }
      ]
    },
    {
      "cell_type": "markdown",
      "metadata": {
        "id": "Q8psy9B7iiNe",
        "colab_type": "text"
      },
      "source": [
        "Now lets check the percentage of students satisfied from college or not"
      ]
    },
    {
      "cell_type": "code",
      "metadata": {
        "id": "s07rlfojiiNf",
        "colab_type": "code",
        "colab": {},
        "outputId": "7f57af8e-3dec-40b8-a04b-98df657373f3"
      },
      "source": [
        "df.satisfied_college.value_counts(normalize=True).plot(kind='bar');"
      ],
      "execution_count": 0,
      "outputs": [
        {
          "output_type": "display_data",
          "data": {
            "image/png": "[encoded data removed]",
            "text/plain": [
              "<Figure size 432x288 with 1 Axes>"
            ]
          },
          "metadata": {
            "tags": [],
            "needs_background": "light"
          }
        }
      ]
    },
    {
      "cell_type": "markdown",
      "metadata": {
        "id": "nL4xM6YyiiNj",
        "colab_type": "text"
      },
      "source": [
        "Now that is very important conclusion here 88% arrund students say Yes means they are Satified from colleges \n",
        "exercise."
      ]
    },
    {
      "cell_type": "code",
      "metadata": {
        "id": "lMxTuHwpiiNk",
        "colab_type": "code",
        "colab": {},
        "outputId": "6cd3a5e7-1300-439d-fd80-aeced14ec1d2"
      },
      "source": [
        "#Branch vs Satisfied from college filter\n",
        "print(pd.crosstab(df.Branch,df.satisfied_college,margins=True))\n",
        "pd.crosstab(df.Branch,df.satisfied_college,margins=True).plot(kind='bar',figsize=(7,5));"
      ],
      "execution_count": 0,
      "outputs": [
        {
          "output_type": "stream",
          "text": [
            "satisfied_college                                   NO  YES  All\n",
            "Branch                                                          \n",
            "Civil Engineering                                    0    1    1\n",
            "Computer Engineering                                 1   23   24\n",
            "Electrical Engineering                               1   20   21\n",
            "Electronics and Telecommunication Engineering        0    8    8\n",
            "Mechanical Engineering                               6   81   87\n",
            "Mechanical Engineering, Electronics and Telecom...   0    1    1\n",
            "All                                                  8  134  142\n"
          ],
          "name": "stdout"
        },
        {
          "output_type": "display_data",
          "data": {
            "image/png": "[encoded data removed]",
            "text/plain": [
              "<Figure size 504x360 with 1 Axes>"
            ]
          },
          "metadata": {
            "tags": [],
            "needs_background": "light"
          }
        }
      ]
    },
    {
      "cell_type": "code",
      "metadata": {
        "id": "mivCSZlwiiNr",
        "colab_type": "code",
        "colab": {},
        "outputId": "f4250a31-8cb4-404b-da31-3397148e9021"
      },
      "source": [
        "#for size of dataset\n",
        "df.shape"
      ],
      "execution_count": 0,
      "outputs": [
        {
          "output_type": "execute_result",
          "data": {
            "text/plain": [
              "(142, 11)"
            ]
          },
          "metadata": {
            "tags": []
          },
          "execution_count": 21
        }
      ]
    },
    {
      "cell_type": "code",
      "metadata": {
        "id": "3U_GBg_siiNw",
        "colab_type": "code",
        "colab": {},
        "outputId": "b67f6161-2f77-4164-c05e-a39d36b13287"
      },
      "source": [
        "df.describe()#It shows the description of data"
      ],
      "execution_count": 0,
      "outputs": [
        {
          "output_type": "execute_result",
          "data": {
            "text/html": [
              "<div>\n",
              "<style scoped>\n",
              "    .dataframe tbody tr th:only-of-type {\n",
              "        vertical-align: middle;\n",
              "    }\n",
              "\n",
              "    .dataframe tbody tr th {\n",
              "        vertical-align: top;\n",
              "    }\n",
              "\n",
              "    .dataframe thead th {\n",
              "        text-align: right;\n",
              "    }\n",
              "</style>\n",
              "<table border=\"1\" class=\"dataframe\">\n",
              "  <thead>\n",
              "    <tr style=\"text-align: right;\">\n",
              "      <th></th>\n",
              "      <th>PCM marks(Out of 300)</th>\n",
              "      <th>CET Score</th>\n",
              "      <th>JEE score</th>\n",
              "    </tr>\n",
              "  </thead>\n",
              "  <tbody>\n",
              "    <tr>\n",
              "      <th>count</th>\n",
              "      <td>142.000000</td>\n",
              "      <td>142.000000</td>\n",
              "      <td>142.000000</td>\n",
              "    </tr>\n",
              "    <tr>\n",
              "      <th>mean</th>\n",
              "      <td>182.380282</td>\n",
              "      <td>66.612676</td>\n",
              "      <td>19.401408</td>\n",
              "    </tr>\n",
              "    <tr>\n",
              "      <th>std</th>\n",
              "      <td>49.034903</td>\n",
              "      <td>20.853371</td>\n",
              "      <td>19.263039</td>\n",
              "    </tr>\n",
              "    <tr>\n",
              "      <th>min</th>\n",
              "      <td>40.000000</td>\n",
              "      <td>0.000000</td>\n",
              "      <td>-8.000000</td>\n",
              "    </tr>\n",
              "    <tr>\n",
              "      <th>25%</th>\n",
              "      <td>166.000000</td>\n",
              "      <td>59.000000</td>\n",
              "      <td>0.000000</td>\n",
              "    </tr>\n",
              "    <tr>\n",
              "      <th>50%</th>\n",
              "      <td>190.500000</td>\n",
              "      <td>65.000000</td>\n",
              "      <td>16.000000</td>\n",
              "    </tr>\n",
              "    <tr>\n",
              "      <th>75%</th>\n",
              "      <td>215.000000</td>\n",
              "      <td>74.000000</td>\n",
              "      <td>31.500000</td>\n",
              "    </tr>\n",
              "    <tr>\n",
              "      <th>max</th>\n",
              "      <td>259.000000</td>\n",
              "      <td>124.000000</td>\n",
              "      <td>77.000000</td>\n",
              "    </tr>\n",
              "  </tbody>\n",
              "</table>\n",
              "</div>"
            ],
            "text/plain": [
              "       PCM marks(Out of 300)   CET Score   JEE score\n",
              "count             142.000000  142.000000  142.000000\n",
              "mean              182.380282   66.612676   19.401408\n",
              "std                49.034903   20.853371   19.263039\n",
              "min                40.000000    0.000000   -8.000000\n",
              "25%               166.000000   59.000000    0.000000\n",
              "50%               190.500000   65.000000   16.000000\n",
              "75%               215.000000   74.000000   31.500000\n",
              "max               259.000000  124.000000   77.000000"
            ]
          },
          "metadata": {
            "tags": []
          },
          "execution_count": 22
        }
      ]
    },
    {
      "cell_type": "markdown",
      "metadata": {
        "id": "h5MIhhaBiiN0",
        "colab_type": "text"
      },
      "source": [
        "What can we infer from the above describe function?\n",
        "1.\tLook at the Satisfaction column ,the data set has in the form of Yes and No and would be interesting to know more about it as we progress.\n",
        "2.Maximum value of PCM score is 259 out of 300.\n",
        "all this columns-\"PCM Marks\",\"CET Score\",\"Jee\" scores it is the variables shows the quality of student.\n",
        "\n",
        "All the numerical attributes showing the input variables,here we want to know about the existaence students \n",
        "are satified or not from college.\n",
        "So we need output variable.\n",
        "\n",
        "\n",
        "so first of all we will have to replace this categorical data \"Yes\" -1 and \"No\"-0\n"
      ]
    },
    {
      "cell_type": "code",
      "metadata": {
        "id": "bxMRx8siiiN2",
        "colab_type": "code",
        "colab": {}
      },
      "source": [
        ""
      ],
      "execution_count": 0,
      "outputs": []
    },
    {
      "cell_type": "markdown",
      "metadata": {
        "id": "n0WfqYz_iiN_",
        "colab_type": "text"
      },
      "source": [
        "Now , we are going to see some visualization and also going to see how and what can we infer from visualization\n",
        "\n",
        "Lets start Exploratory Data Analysis EDA"
      ]
    },
    {
      "cell_type": "code",
      "metadata": {
        "id": "F9uah3RTiiOB",
        "colab_type": "code",
        "colab": {},
        "outputId": "effad902-89aa-4dbb-ce82-43c40e5bea94"
      },
      "source": [
        "sns.heatmap(df.isnull())"
      ],
      "execution_count": 0,
      "outputs": [
        {
          "output_type": "execute_result",
          "data": {
            "text/plain": [
              "<matplotlib.axes._subplots.AxesSubplot at 0x21e6739a4a8>"
            ]
          },
          "metadata": {
            "tags": []
          },
          "execution_count": 23
        },
        {
          "output_type": "display_data",
          "data": {
            "image/png": "[encoded data removed]",
            "text/plain": [
              "<Figure size 432x288 with 2 Axes>"
            ]
          },
          "metadata": {
            "tags": [],
            "needs_background": "light"
          }
        }
      ]
    },
    {
      "cell_type": "code",
      "metadata": {
        "id": "hsHpmCKOiiOL",
        "colab_type": "code",
        "colab": {},
        "outputId": "4a479539-2026-4e8f-ead7-406d3412e073"
      },
      "source": [
        "df['PCM marks(Out of 300)'].plot.box()\n",
        "# displaying outliers"
      ],
      "execution_count": 0,
      "outputs": [
        {
          "output_type": "execute_result",
          "data": {
            "text/plain": [
              "<matplotlib.axes._subplots.AxesSubplot at 0x21e67cb4320>"
            ]
          },
          "metadata": {
            "tags": []
          },
          "execution_count": 24
        },
        {
          "output_type": "display_data",
          "data": {
            "image/png": "[encoded data removed]",
            "text/plain": [
              "<Figure size 432x288 with 1 Axes>"
            ]
          },
          "metadata": {
            "tags": [],
            "needs_background": "light"
          }
        }
      ]
    },
    {
      "cell_type": "markdown",
      "metadata": {
        "id": "y7iZLtmciiOR",
        "colab_type": "text"
      },
      "source": [
        " visualization ,through box plot\n",
        " from the plot we can see that outliers are present it could be affect in our result of accuracy."
      ]
    },
    {
      "cell_type": "code",
      "metadata": {
        "id": "NHDDfaYriiOT",
        "colab_type": "code",
        "colab": {},
        "outputId": "1fcaabd2-6643-490b-bf3c-184289329ae3"
      },
      "source": [
        "df['CET Score'].plot.box()"
      ],
      "execution_count": 0,
      "outputs": [
        {
          "output_type": "execute_result",
          "data": {
            "text/plain": [
              "<matplotlib.axes._subplots.AxesSubplot at 0x21e673b5e48>"
            ]
          },
          "metadata": {
            "tags": []
          },
          "execution_count": 25
        },
        {
          "output_type": "display_data",
          "data": {
            "image/png": "[encoded data removed]",
            "text/plain": [
              "<Figure size 432x288 with 1 Axes>"
            ]
          },
          "metadata": {
            "tags": [],
            "needs_background": "light"
          }
        }
      ]
    },
    {
      "cell_type": "code",
      "metadata": {
        "id": "mTs2kBIjiiOd",
        "colab_type": "code",
        "colab": {},
        "outputId": "95988738-3c91-41cd-8446-cb01951f7ec7"
      },
      "source": [
        "df['JEE score'].plot.box()"
      ],
      "execution_count": 0,
      "outputs": [
        {
          "output_type": "execute_result",
          "data": {
            "text/plain": [
              "<matplotlib.axes._subplots.AxesSubplot at 0x21e673493c8>"
            ]
          },
          "metadata": {
            "tags": []
          },
          "execution_count": 26
        },
        {
          "output_type": "display_data",
          "data": {
            "image/png": "[encoded data removed]",
            "text/plain": [
              "<Figure size 432x288 with 1 Axes>"
            ]
          },
          "metadata": {
            "tags": [],
            "needs_background": "light"
          }
        }
      ]
    },
    {
      "cell_type": "code",
      "metadata": {
        "id": "v_zSnbioiiOm",
        "colab_type": "code",
        "colab": {}
      },
      "source": [
        ""
      ],
      "execution_count": 0,
      "outputs": []
    },
    {
      "cell_type": "code",
      "metadata": {
        "id": "jWZgaDQTiiOu",
        "colab_type": "code",
        "colab": {},
        "outputId": "ab027f11-4065-452d-98af-25a587ad467b"
      },
      "source": [
        "df.plot(kind='box',subplots=True,layout=(2,2))\n",
        "plt.show()"
      ],
      "execution_count": 0,
      "outputs": [
        {
          "output_type": "display_data",
          "data": {
            "image/png": "[encoded data removed]",
            "text/plain": [
              "<Figure size 432x288 with 4 Axes>"
            ]
          },
          "metadata": {
            "tags": [],
            "needs_background": "light"
          }
        }
      ]
    },
    {
      "cell_type": "code",
      "metadata": {
        "id": "-nUx5_qgiiO2",
        "colab_type": "code",
        "colab": {},
        "outputId": "877b94ec-376a-4fc3-af76-4406ca1e30b4"
      },
      "source": [
        "corr_hmap=df.corr()\n",
        "plt.figure(figsize=(4,4))\n",
        "sns.heatmap(corr_hmap,annot=True)\n",
        "plt.show()"
      ],
      "execution_count": 0,
      "outputs": [
        {
          "output_type": "display_data",
          "data": {
            "image/png": "[encoded data removed]",
            "text/plain": [
              "<Figure size 288x288 with 2 Axes>"
            ]
          },
          "metadata": {
            "tags": [],
            "needs_background": "light"
          }
        }
      ]
    },
    {
      "cell_type": "markdown",
      "metadata": {
        "id": "GrAcLUdXiiO_",
        "colab_type": "text"
      },
      "source": [
        "from the data we can say no strong between correlation between input and output varables"
      ]
    },
    {
      "cell_type": "code",
      "metadata": {
        "id": "h9cDIouXiiPB",
        "colab_type": "code",
        "colab": {},
        "outputId": "c623cf14-2774-4b5e-bbf4-11456a2d42bb"
      },
      "source": [
        "sns.pairplot(df)"
      ],
      "execution_count": 0,
      "outputs": [
        {
          "output_type": "execute_result",
          "data": {
            "text/plain": [
              "<seaborn.axisgrid.PairGrid at 0x21e67cbc780>"
            ]
          },
          "metadata": {
            "tags": []
          },
          "execution_count": 29
        },
        {
          "output_type": "display_data",
          "data": {
            "image/png": "[encoded data removed]",
            "text/plain": [
              "<Figure size 540x540 with 12 Axes>"
            ]
          },
          "metadata": {
            "tags": [],
            "needs_background": "light"
          }
        }
      ]
    },
    {
      "cell_type": "markdown",
      "metadata": {
        "id": "AHNTN_N-iiPF",
        "colab_type": "text"
      },
      "source": [
        "From sns plot here we can see the data is too much spreaded\n",
        "\n",
        "As we can see from all the above representation that many factors are are affecting the satisfaction of students,like PCM scores,JEE score because fro Box plot we are getting outliers and also in the  correlation_hmap plot we did not get any strong correlation between input and outliers."
      ]
    },
    {
      "cell_type": "code",
      "metadata": {
        "id": "77RLI7FiiiPG",
        "colab_type": "code",
        "colab": {}
      },
      "source": [
        "df.drop('Timestamp',axis=1,inplace=True)"
      ],
      "execution_count": 0,
      "outputs": []
    },
    {
      "cell_type": "code",
      "metadata": {
        "id": "jHnFDbayiiPJ",
        "colab_type": "code",
        "colab": {},
        "outputId": "f0fe02fa-8115-454f-89aa-e3cfd3163a35"
      },
      "source": [
        "num_val={'YES':1,'NO':0}#replace yes and No to 1 and 0 \n",
        "df['satisfied_college']=df[\"satisfied_college\"].apply(lambda x:num_val[x])\n",
        "\n",
        "df.head()\n",
        "#Satisfied from College this is output variable"
      ],
      "execution_count": 0,
      "outputs": [
        {
          "output_type": "execute_result",
          "data": {
            "text/html": [
              "<div>\n",
              "<style scoped>\n",
              "    .dataframe tbody tr th:only-of-type {\n",
              "        vertical-align: middle;\n",
              "    }\n",
              "\n",
              "    .dataframe tbody tr th {\n",
              "        vertical-align: top;\n",
              "    }\n",
              "\n",
              "    .dataframe thead th {\n",
              "        text-align: right;\n",
              "    }\n",
              "</style>\n",
              "<table border=\"1\" class=\"dataframe\">\n",
              "  <thead>\n",
              "    <tr style=\"text-align: right;\">\n",
              "      <th></th>\n",
              "      <th>Class</th>\n",
              "      <th>Branch</th>\n",
              "      <th>PCM marks(Out of 300)</th>\n",
              "      <th>CET Score</th>\n",
              "      <th>JEE score</th>\n",
              "      <th>Dislikes</th>\n",
              "      <th>State</th>\n",
              "      <th>why_choose</th>\n",
              "      <th>Reason_not_select</th>\n",
              "      <th>satisfied_college</th>\n",
              "    </tr>\n",
              "  </thead>\n",
              "  <tbody>\n",
              "    <tr>\n",
              "      <th>0</th>\n",
              "      <td>FE</td>\n",
              "      <td>Electrical Engineering</td>\n",
              "      <td>259</td>\n",
              "      <td>92</td>\n",
              "      <td>21</td>\n",
              "      <td>No curriculum activity's in college</td>\n",
              "      <td>Maharashtra</td>\n",
              "      <td>Placement</td>\n",
              "      <td>Fee Issue</td>\n",
              "      <td>1</td>\n",
              "    </tr>\n",
              "    <tr>\n",
              "      <th>1</th>\n",
              "      <td>F E</td>\n",
              "      <td>Mechanical Engineering</td>\n",
              "      <td>185</td>\n",
              "      <td>72</td>\n",
              "      <td>24</td>\n",
              "      <td>1 - The practical sessions are not take seriou...</td>\n",
              "      <td>Maharashtra</td>\n",
              "      <td>Result</td>\n",
              "      <td>Fee Issue</td>\n",
              "      <td>1</td>\n",
              "    </tr>\n",
              "    <tr>\n",
              "      <th>2</th>\n",
              "      <td>FE</td>\n",
              "      <td>Mechanical Engineering, Electronics and Teleco...</td>\n",
              "      <td>188</td>\n",
              "      <td>60</td>\n",
              "      <td>0</td>\n",
              "      <td>Nothing</td>\n",
              "      <td>Maharashtra</td>\n",
              "      <td>Teaching Facility</td>\n",
              "      <td>Rural area</td>\n",
              "      <td>1</td>\n",
              "    </tr>\n",
              "    <tr>\n",
              "      <th>3</th>\n",
              "      <td>F E</td>\n",
              "      <td>Mechanical Engineering</td>\n",
              "      <td>169</td>\n",
              "      <td>51</td>\n",
              "      <td>35</td>\n",
              "      <td>Nothing</td>\n",
              "      <td>Maharashtra</td>\n",
              "      <td>Your relative/senior suggested</td>\n",
              "      <td>Placement</td>\n",
              "      <td>1</td>\n",
              "    </tr>\n",
              "    <tr>\n",
              "      <th>4</th>\n",
              "      <td>FE</td>\n",
              "      <td>Computer Engineering</td>\n",
              "      <td>182</td>\n",
              "      <td>60</td>\n",
              "      <td>0</td>\n",
              "      <td>Nothing</td>\n",
              "      <td>Maharashtra</td>\n",
              "      <td>Placement</td>\n",
              "      <td>Fee Issue</td>\n",
              "      <td>1</td>\n",
              "    </tr>\n",
              "  </tbody>\n",
              "</table>\n",
              "</div>"
            ],
            "text/plain": [
              "  Class                                             Branch  \\\n",
              "0    FE                             Electrical Engineering   \n",
              "1  F E                              Mechanical Engineering   \n",
              "2    FE  Mechanical Engineering, Electronics and Teleco...   \n",
              "3  F E                              Mechanical Engineering   \n",
              "4    FE                               Computer Engineering   \n",
              "\n",
              "   PCM marks(Out of 300)  CET Score  JEE score  \\\n",
              "0                    259         92         21   \n",
              "1                    185         72         24   \n",
              "2                    188         60          0   \n",
              "3                    169         51         35   \n",
              "4                    182         60          0   \n",
              "\n",
              "                                            Dislikes         State  \\\n",
              "0                No curriculum activity's in college   Maharashtra   \n",
              "1  1 - The practical sessions are not take seriou...   Maharashtra   \n",
              "2                                           Nothing    Maharashtra   \n",
              "3                                           Nothing   Maharashtra    \n",
              "4                                           Nothing   Maharashtra    \n",
              "\n",
              "                       why_choose Reason_not_select  satisfied_college  \n",
              "0                       Placement         Fee Issue                  1  \n",
              "1                          Result         Fee Issue                  1  \n",
              "2               Teaching Facility        Rural area                  1  \n",
              "3  Your relative/senior suggested         Placement                  1  \n",
              "4                       Placement         Fee Issue                  1  "
            ]
          },
          "metadata": {
            "tags": []
          },
          "execution_count": 31
        }
      ]
    },
    {
      "cell_type": "markdown",
      "metadata": {
        "id": "qhsaH9pNiiPO",
        "colab_type": "text"
      },
      "source": [
        "4.Pre-processing Pipeline\n",
        "we have to define the attributes for traing and testing the data"
      ]
    },
    {
      "cell_type": "code",
      "metadata": {
        "id": "siazxZ4_iiPR",
        "colab_type": "code",
        "colab": {},
        "outputId": "28422057-4871-436a-c22b-aca86e6691b9"
      },
      "source": [
        "df=pd.get_dummies(df)#need to convert categorical data into numerical value\n",
        "df.head(2)"
      ],
      "execution_count": 0,
      "outputs": [
        {
          "output_type": "execute_result",
          "data": {
            "text/html": [
              "<div>\n",
              "<style scoped>\n",
              "    .dataframe tbody tr th:only-of-type {\n",
              "        vertical-align: middle;\n",
              "    }\n",
              "\n",
              "    .dataframe tbody tr th {\n",
              "        vertical-align: top;\n",
              "    }\n",
              "\n",
              "    .dataframe thead th {\n",
              "        text-align: right;\n",
              "    }\n",
              "</style>\n",
              "<table border=\"1\" class=\"dataframe\">\n",
              "  <thead>\n",
              "    <tr style=\"text-align: right;\">\n",
              "      <th></th>\n",
              "      <th>PCM marks(Out of 300)</th>\n",
              "      <th>CET Score</th>\n",
              "      <th>JEE score</th>\n",
              "      <th>satisfied_college</th>\n",
              "      <th>Class_F E</th>\n",
              "      <th>Class_FE</th>\n",
              "      <th>Branch_Civil Engineering</th>\n",
              "      <th>Branch_Computer Engineering</th>\n",
              "      <th>Branch_Electrical Engineering</th>\n",
              "      <th>Branch_Electronics and Telecommunication Engineering</th>\n",
              "      <th>...</th>\n",
              "      <th>why_choose_Placement</th>\n",
              "      <th>why_choose_Result</th>\n",
              "      <th>why_choose_Teaching Facility</th>\n",
              "      <th>why_choose_Top in North Maharashtra Region</th>\n",
              "      <th>why_choose_Your relative/senior suggested</th>\n",
              "      <th>why_choose_any other then specify</th>\n",
              "      <th>Reason_not_select_Fee Issue</th>\n",
              "      <th>Reason_not_select_Placement</th>\n",
              "      <th>Reason_not_select_Rural area</th>\n",
              "      <th>Reason_not_select_any other then specify</th>\n",
              "    </tr>\n",
              "  </thead>\n",
              "  <tbody>\n",
              "    <tr>\n",
              "      <th>0</th>\n",
              "      <td>259</td>\n",
              "      <td>92</td>\n",
              "      <td>21</td>\n",
              "      <td>1</td>\n",
              "      <td>0</td>\n",
              "      <td>1</td>\n",
              "      <td>0</td>\n",
              "      <td>0</td>\n",
              "      <td>1</td>\n",
              "      <td>0</td>\n",
              "      <td>...</td>\n",
              "      <td>1</td>\n",
              "      <td>0</td>\n",
              "      <td>0</td>\n",
              "      <td>0</td>\n",
              "      <td>0</td>\n",
              "      <td>0</td>\n",
              "      <td>1</td>\n",
              "      <td>0</td>\n",
              "      <td>0</td>\n",
              "      <td>0</td>\n",
              "    </tr>\n",
              "    <tr>\n",
              "      <th>1</th>\n",
              "      <td>185</td>\n",
              "      <td>72</td>\n",
              "      <td>24</td>\n",
              "      <td>1</td>\n",
              "      <td>1</td>\n",
              "      <td>0</td>\n",
              "      <td>0</td>\n",
              "      <td>0</td>\n",
              "      <td>0</td>\n",
              "      <td>0</td>\n",
              "      <td>...</td>\n",
              "      <td>0</td>\n",
              "      <td>1</td>\n",
              "      <td>0</td>\n",
              "      <td>0</td>\n",
              "      <td>0</td>\n",
              "      <td>0</td>\n",
              "      <td>1</td>\n",
              "      <td>0</td>\n",
              "      <td>0</td>\n",
              "      <td>0</td>\n",
              "    </tr>\n",
              "  </tbody>\n",
              "</table>\n",
              "<p>2 rows × 105 columns</p>\n",
              "</div>"
            ],
            "text/plain": [
              "   PCM marks(Out of 300)  CET Score  JEE score  satisfied_college  Class_F E   \\\n",
              "0                    259         92         21                  1           0   \n",
              "1                    185         72         24                  1           1   \n",
              "\n",
              "   Class_FE  Branch_Civil Engineering  Branch_Computer Engineering  \\\n",
              "0         1                         0                            0   \n",
              "1         0                         0                            0   \n",
              "\n",
              "   Branch_Electrical Engineering  \\\n",
              "0                              1   \n",
              "1                              0   \n",
              "\n",
              "   Branch_Electronics and Telecommunication Engineering  ...  \\\n",
              "0                                                  0     ...   \n",
              "1                                                  0     ...   \n",
              "\n",
              "   why_choose_Placement  why_choose_Result  why_choose_Teaching Facility  \\\n",
              "0                     1                  0                             0   \n",
              "1                     0                  1                             0   \n",
              "\n",
              "   why_choose_Top in North Maharashtra Region  \\\n",
              "0                                           0   \n",
              "1                                           0   \n",
              "\n",
              "   why_choose_Your relative/senior suggested  \\\n",
              "0                                          0   \n",
              "1                                          0   \n",
              "\n",
              "   why_choose_any other then specify  Reason_not_select_Fee Issue  \\\n",
              "0                                  0                            1   \n",
              "1                                  0                            1   \n",
              "\n",
              "   Reason_not_select_Placement  Reason_not_select_Rural area  \\\n",
              "0                            0                             0   \n",
              "1                            0                             0   \n",
              "\n",
              "   Reason_not_select_any other then specify  \n",
              "0                                         0  \n",
              "1                                         0  \n",
              "\n",
              "[2 rows x 105 columns]"
            ]
          },
          "metadata": {
            "tags": []
          },
          "execution_count": 32
        }
      ]
    },
    {
      "cell_type": "code",
      "metadata": {
        "id": "qu7fCJ7HiiPi",
        "colab_type": "code",
        "colab": {}
      },
      "source": [
        "from sklearn.model_selection import GridSearchCV\n",
        "from sklearn.preprocessing import StandardScaler\n",
        "from sklearn.preprocessing import OrdinalEncoder\n",
        "from sklearn.model_selection import train_test_split\n",
        "from sklearn.metrics import make_scorer"
      ],
      "execution_count": 0,
      "outputs": []
    },
    {
      "cell_type": "code",
      "metadata": {
        "id": "4lGY6gptiiPn",
        "colab_type": "code",
        "colab": {}
      },
      "source": [
        "#Defining the x variables we need only numerical Attributes\n",
        "X = df.drop(\"satisfied_college\",axis=1)\n",
        "y = df[\"satisfied_college\"]\n",
        "# Encoding\n",
        "enc = OrdinalEncoder()\n",
        "X = enc.fit_transform(X)\n",
        "X_train, X_test, y_train, y_test = train_test_split(X,y,test_size=0.2)\n",
        "# feature scaling\n",
        "scaler = StandardScaler()\n",
        "X_train = scaler.fit_transform(X_train)"
      ],
      "execution_count": 0,
      "outputs": []
    },
    {
      "cell_type": "code",
      "metadata": {
        "id": "rkIKeTYuiiPs",
        "colab_type": "code",
        "colab": {}
      },
      "source": [
        ""
      ],
      "execution_count": 0,
      "outputs": []
    },
    {
      "cell_type": "code",
      "metadata": {
        "id": "694VCoxViiPv",
        "colab_type": "code",
        "colab": {}
      },
      "source": [
        "#Importing the trsin and test library\n",
        "import sklearn\n",
        "from sklearn.model_selection import train_test_split"
      ],
      "execution_count": 0,
      "outputs": []
    },
    {
      "cell_type": "code",
      "metadata": {
        "id": "uFx6kEM2iiQB",
        "colab_type": "code",
        "colab": {}
      },
      "source": [
        "X_train,X_test,y_train,y_test=train_test_split(X,y,test_size=.22,random_state=45)"
      ],
      "execution_count": 0,
      "outputs": []
    },
    {
      "cell_type": "markdown",
      "metadata": {
        "id": "oTdHyQJNiiQG",
        "colab_type": "text"
      },
      "source": [
        "# 5.Building Machine Learning Models\n",
        "\n",
        "\n",
        "\n",
        "The main objective of this project to identify the most responsive of satisfaction of students from colleges if we get answer in No then it is needful to provide facility to students. So that colleges can improve their admission.\n",
        "To Achieve this objective, classification algorithm will be employed by analyzing Students statistics , a classification model will do built to classify all clients into two groups yes to Satisfy No to Unsatisfied.\n"
      ]
    },
    {
      "cell_type": "code",
      "metadata": {
        "id": "dHEXu8mkiiQH",
        "colab_type": "code",
        "colab": {}
      },
      "source": [
        "from sklearn.linear_model import LogisticRegression #out variable is not continuous so we have to take Logistic Regressor\n",
        "\n",
        "from sklearn.metrics import accuracy_score#displaying Accuracy Score\n",
        "from sklearn.metrics import confusion_matrix,classification_report#Displaying Confusion Matrix\n",
        "\n",
        "from sklearn.svm import SVC\n",
        "import warnings\n",
        "warnings.filterwarnings('ignore')"
      ],
      "execution_count": 0,
      "outputs": []
    },
    {
      "cell_type": "markdown",
      "metadata": {
        "id": "NkTvry2diiQS",
        "colab_type": "text"
      },
      "source": [
        "Four different classification algorithms (Logistic Regression, K-Neighbors Classifier, Decision Tree Classifier, and Gaussian NB) are run on the dataset and the best-performing one will be used to build the classification model."
      ]
    },
    {
      "cell_type": "code",
      "metadata": {
        "id": "TWE3zo4ZiiQT",
        "colab_type": "code",
        "colab": {}
      },
      "source": [
        "#Lets start Model making Logistic Regression\n",
        "lr=LogisticRegression()"
      ],
      "execution_count": 0,
      "outputs": []
    },
    {
      "cell_type": "code",
      "metadata": {
        "id": "64ohhYTaiiQd",
        "colab_type": "code",
        "colab": {},
        "outputId": "41f489c6-6fbd-49bd-d3bd-8c85e260f688"
      },
      "source": [
        "lr.fit(X_train,y_train)\n",
        "lr.score(X_train,y_train)\n",
        "predlr=lr.predict(X_test)\n",
        "print(accuracy_score(y_test,predlr))\n",
        "print(confusion_matrix(y_test,predlr))\n",
        "print(classification_report(y_test,predlr))"
      ],
      "execution_count": 0,
      "outputs": [
        {
          "output_type": "stream",
          "text": [
            "0.90625\n",
            "[[ 0  3]\n",
            " [ 0 29]]\n",
            "              precision    recall  f1-score   support\n",
            "\n",
            "           0       0.00      0.00      0.00         3\n",
            "           1       0.91      1.00      0.95        29\n",
            "\n",
            "    accuracy                           0.91        32\n",
            "   macro avg       0.45      0.50      0.48        32\n",
            "weighted avg       0.82      0.91      0.86        32\n",
            "\n"
          ],
          "name": "stdout"
        }
      ]
    },
    {
      "cell_type": "markdown",
      "metadata": {
        "id": "GZ_gKWHTiiQk",
        "colab_type": "text"
      },
      "source": [
        "So from Logistic Regression we get 90% Accuracy so we can say the students are Satisfied after taking the Admission in college.\n",
        "lets use some other Algorithm\n"
      ]
    },
    {
      "cell_type": "code",
      "metadata": {
        "id": "J1eZsgEWiiQl",
        "colab_type": "code",
        "colab": {}
      },
      "source": [
        "#From DecisionTree Classifier\n",
        "from sklearn.tree import DecisionTreeClassifier\n",
        "dt=DecisionTreeClassifier()"
      ],
      "execution_count": 0,
      "outputs": []
    },
    {
      "cell_type": "code",
      "metadata": {
        "id": "cOk_4UgtiiQp",
        "colab_type": "code",
        "colab": {},
        "outputId": "ad35ddab-0344-4868-b32a-1f3d377da775"
      },
      "source": [
        "dt.fit(X_train,y_train)\n",
        "dt.score(X_train,y_train)\n",
        "preddt=dt.predict(X_test)\n",
        "print(accuracy_score(y_test,preddt))\n",
        "print(confusion_matrix(y_test,preddt))\n",
        "print(classification_report(y_test,preddt))"
      ],
      "execution_count": 0,
      "outputs": [
        {
          "output_type": "stream",
          "text": [
            "0.90625\n",
            "[[ 0  3]\n",
            " [ 0 29]]\n",
            "              precision    recall  f1-score   support\n",
            "\n",
            "           0       0.00      0.00      0.00         3\n",
            "           1       0.91      1.00      0.95        29\n",
            "\n",
            "    accuracy                           0.91        32\n",
            "   macro avg       0.45      0.50      0.48        32\n",
            "weighted avg       0.82      0.91      0.86        32\n",
            "\n"
          ],
          "name": "stdout"
        }
      ]
    },
    {
      "cell_type": "markdown",
      "metadata": {
        "id": "VZMOplpoiiQ0",
        "colab_type": "text"
      },
      "source": [
        "So here we get 90% Accuracy from Support Vector and DecisionTree Classifier"
      ]
    },
    {
      "cell_type": "code",
      "metadata": {
        "id": "WH1XctrhiiQ1",
        "colab_type": "code",
        "colab": {},
        "outputId": "30667c76-554d-42db-8bfd-ba66dea43815"
      },
      "source": [
        "from sklearn.ensemble import GradientBoostingClassifier\n",
        "gbc=GradientBoostingClassifier()\n",
        "gbc.fit(X_train,y_train)\n",
        "gbc.score(X_train,y_train)\n",
        "predgbc=gbc.predict(X_test)\n",
        "print(accuracy_score(y_test,predgbc))\n",
        "print(confusion_matrix(y_test,predgbc))\n",
        "\n",
        "print(classification_report(y_test,predgbc))"
      ],
      "execution_count": 0,
      "outputs": [
        {
          "output_type": "stream",
          "text": [
            "0.90625\n",
            "[[ 0  3]\n",
            " [ 0 29]]\n",
            "              precision    recall  f1-score   support\n",
            "\n",
            "           0       0.00      0.00      0.00         3\n",
            "           1       0.91      1.00      0.95        29\n",
            "\n",
            "    accuracy                           0.91        32\n",
            "   macro avg       0.45      0.50      0.48        32\n",
            "weighted avg       0.82      0.91      0.86        32\n",
            "\n"
          ],
          "name": "stdout"
        }
      ]
    },
    {
      "cell_type": "code",
      "metadata": {
        "id": "5B8JOufdiiQ4",
        "colab_type": "code",
        "colab": {}
      },
      "source": [
        "from sklearn.model_selection import GridSearchCV"
      ],
      "execution_count": 0,
      "outputs": []
    },
    {
      "cell_type": "code",
      "metadata": {
        "id": "GFdRxwafiiQ7",
        "colab_type": "code",
        "colab": {}
      },
      "source": [
        "parameters=[{'C':[1,10,100],'kernel':['linear']},\n",
        "            {'C':[1,10,100],'kernel':['rbf'],'gamma':[0.1,0.2,0.3,0.4,0.5,0.6,0.7,0.8,0.9]}]\n",
        "grid_search=GridSearchCV(estimator=classifier,\n",
        "                        param_grid=parameters,\n",
        "                        scoring='accuracy',\n",
        "                        cv=10,\n",
        "                        n_jobs=-1)\n",
        "grid_search=grid_search.fit(X_train,y_train)"
      ],
      "execution_count": 0,
      "outputs": []
    },
    {
      "cell_type": "code",
      "metadata": {
        "id": "cVss3v-HiiQ9",
        "colab_type": "code",
        "colab": {}
      },
      "source": [
        "accuracy=grid_search.best_score_"
      ],
      "execution_count": 0,
      "outputs": []
    },
    {
      "cell_type": "code",
      "metadata": {
        "id": "fOpdH1aGiiRE",
        "colab_type": "code",
        "colab": {},
        "outputId": "c391630e-bf8e-44ba-a9a9-5cd507c0601b"
      },
      "source": [
        "accuracy"
      ],
      "execution_count": 0,
      "outputs": [
        {
          "output_type": "execute_result",
          "data": {
            "text/plain": [
              "0.9545454545454546"
            ]
          },
          "metadata": {
            "tags": []
          },
          "execution_count": 49
        }
      ]
    },
    {
      "cell_type": "markdown",
      "metadata": {
        "id": "jfGOsR45iiRK",
        "colab_type": "text"
      },
      "source": [
        "95.45% Accuracy score"
      ]
    },
    {
      "cell_type": "markdown",
      "metadata": {
        "id": "8rh1MxSoiiRK",
        "colab_type": "text"
      },
      "source": [
        "Comparision of Algorithm\n",
        "Name of Algorithm       Accuracy Score\n",
        "LogisticRegression            90%\n",
        "DecisionTreeClassifier         90%\n",
        "GridSearchCV                   95%\n"
      ]
    },
    {
      "cell_type": "markdown",
      "metadata": {
        "id": "thumgmW6iiRL",
        "colab_type": "text"
      },
      "source": [
        "Conclusion and Recommendations-\n",
        "\n",
        "The main objective of this project is to increase the effectiveness of the admission scenario of Engineering Colleges,which was successfully met through data analysis ,visualization and analytical model building.A target customer profile established while classification and regression models were Built to predict students response to the improvement of college facility.\n",
        "\n",
        "\n",
        "From after applying all algorithm we can see that Grid SearchCV is producing best Accuracy Score.\n",
        "This is the biggest problems in engineering colleges regarding Admission,because now a \n",
        "\n",
        "days engineering colleges also not maintain there basic requirement e.g teacher students ratio,Updated Laboratory,\n",
        "Research facility,placement .\n"
      ]
    },
    {
      "cell_type": "markdown",
      "metadata": {
        "id": "kzM0GJPwiiRM",
        "colab_type": "text"
      },
      "source": [
        "# Some Important Conclusion\n",
        "(1)From Above Analysis we can say that in the exisisting students from college are satisfied from college.\n",
        "\n",
        "(2)But there friends not taken Admissions becasue of Fee Issues and College located at Remote place.\n",
        "\n",
        "(3)The exisisting students not happy certain Activities like Practical not conducted seriously,No Extra curricular Activities \n",
        "done in college and the College Timing is too much.\n",
        "\n",
        "I thought if the exisisting students from college are happy then college didnt get any difficulties to Admission.\n",
        "\n",
        "So college need improve where they are laging.\n",
        "(5) Students taken admission due to placement and Result so college need to Focus on these points."
      ]
    },
    {
      "cell_type": "code",
      "metadata": {
        "id": "sXqZqPHfiiRN",
        "colab_type": "code",
        "colab": {}
      },
      "source": [
        ""
      ],
      "execution_count": 0,
      "outputs": []
    }
  ]
}