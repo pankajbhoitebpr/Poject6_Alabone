{
  "nbformat": 4,
  "nbformat_minor": 0,
  "metadata": {
    "kernelspec": {
      "display_name": "Python 3",
      "language": "python",
      "name": "python3"
    },
    "language_info": {
      "codemirror_mode": {
        "name": "ipython",
        "version": 3
      },
      "file_extension": ".py",
      "mimetype": "text/x-python",
      "name": "python",
      "nbconvert_exporter": "python",
      "pygments_lexer": "ipython3",
      "version": "3.7.3"
    },
    "colab": {
      "name": "Project 40_FE_students_survey.ipynb",
      "provenance": [],
      "include_colab_link": true
    }
  },
  "cells": [
    {
      "cell_type": "markdown",
      "metadata": {
        "id": "view-in-github",
        "colab_type": "text"
      },
      "source": [
        "<a href=\"https://colab.research.google.com/github/pankajbhoitebpr/Poject6_Alabone/blob/master/Project_40_FE_students_survey.ipynb\" target=\"_parent\"><img src=\"https://colab.research.google.com/assets/colab-badge.svg\" alt=\"Open In Colab\"/></a>"
      ]
    },
    {
      "cell_type": "markdown",
      "metadata": {
        "id": "mLbMqBLIRSGK",
        "colab_type": "text"
      },
      "source": [
        "# First Year Engineering  Students Survey"
      ]
    },
    {
      "cell_type": "markdown",
      "metadata": {
        "id": "7Yo0Czt1RSGN",
        "colab_type": "text"
      },
      "source": [
        "This is the data set of first year engineering students form one of the reputed institute of Technology."
      ]
    },
    {
      "cell_type": "markdown",
      "metadata": {
        "id": "LM33VGs8RSGP",
        "colab_type": "text"
      },
      "source": [
        "Introduction:We are going to make basic Prediction model based on classification method of following problem:\n",
        "\n",
        "1.Problem Definition-Engineering is one of the best Professional course of Education,but currently so many institute are facing \n",
        "problems related to the Admission.From this survey we are trying to find out the problem of student on the basis of some questionaries e.g,what is the expectation from colleges,why you choose the institute,why your friends  did not select,from where you get the information about the institute,Dislike,whether satified from college facility Yes or not.\n",
        "\n",
        "From this Analysis we make Prediction Model of the given data set to predict whether the students are satisfied from college Facility or not. \n",
        "\n",
        "Today we are going to work on a dataset which consists of information about the newly admitted students survey of engineering college whether they satisfied and from college or not,CET score and other aspects such as PCM score etc.When we work on these sort of data ,we need to see which column is important for us and which is not.Our main aim today is to make a model which can give us good prediction on whether current students are satisfied or need to improvement, because if they are satisfied then ultimately admission would be improved next time so its need to very important to make a model which can gives good prediction on the students survey.We are going to use Logistic Regression for this dataset and see if it gives us a good accuracy or not.\n",
        "What is good accuracy? Well,it depends on what sort of data we are working with,for a credit risk data an accuracy of 80% may not good enough. So we can’t actually define “good accuracy” but anything above 85% is good.Our aim on this dataset is to achieve an accuracy score of 90%.\n",
        "\n",
        "First we import our libraries and  dataset and then we see the head of the data to know how the data looks like and use describe function to see the percentile’s and other key statistics.\n",
        "\n"
      ]
    },
    {
      "cell_type": "markdown",
      "metadata": {
        "id": "5yvvMK7jRSGQ",
        "colab_type": "text"
      },
      "source": [
        "Importing the Library"
      ]
    },
    {
      "cell_type": "code",
      "metadata": {
        "id": "-1XIAamzRSGR",
        "colab_type": "code",
        "colab": {}
      },
      "source": [
        "import pandas as pd\n",
        "import numpy as np\n",
        "import matplotlib.pyplot as plt\n",
        "import seaborn as sns\n"
      ],
      "execution_count": 0,
      "outputs": []
    },
    {
      "cell_type": "code",
      "metadata": {
        "id": "qlDU_ddURSGW",
        "colab_type": "code",
        "colab": {},
        "outputId": "554ab9e6-2834-43e5-e955-8f73b672ec8b"
      },
      "source": [
        "#uploading the .csv file\n",
        "df=pd.read_csv('FE_std_survey.csv')\n",
        "df.head()#displaying first five rows"
      ],
      "execution_count": 0,
      "outputs": [
        {
          "output_type": "execute_result",
          "data": {
            "text/html": [
              "<div>\n",
              "<style scoped>\n",
              "    .dataframe tbody tr th:only-of-type {\n",
              "        vertical-align: middle;\n",
              "    }\n",
              "\n",
              "    .dataframe tbody tr th {\n",
              "        vertical-align: top;\n",
              "    }\n",
              "\n",
              "    .dataframe thead th {\n",
              "        text-align: right;\n",
              "    }\n",
              "</style>\n",
              "<table border=\"1\" class=\"dataframe\">\n",
              "  <thead>\n",
              "    <tr style=\"text-align: right;\">\n",
              "      <th></th>\n",
              "      <th>Timestamp</th>\n",
              "      <th>Class</th>\n",
              "      <th>Branch</th>\n",
              "      <th>PCM marks(Out of 300)</th>\n",
              "      <th>CET Score</th>\n",
              "      <th>JEE score</th>\n",
              "      <th>why chose college</th>\n",
              "      <th>Reason for not selecting anyone</th>\n",
              "      <th>Dislikes</th>\n",
              "      <th>State</th>\n",
              "      <th>Satisfied from College</th>\n",
              "    </tr>\n",
              "  </thead>\n",
              "  <tbody>\n",
              "    <tr>\n",
              "      <th>0</th>\n",
              "      <td>1-30-2018 10:04:23</td>\n",
              "      <td>FE</td>\n",
              "      <td>Electrical Engineering</td>\n",
              "      <td>259</td>\n",
              "      <td>92</td>\n",
              "      <td>21</td>\n",
              "      <td>Placement, Top in North Maharashtra Region, Yo...</td>\n",
              "      <td>Fee Issue</td>\n",
              "      <td>No curriculum activity's in college</td>\n",
              "      <td>Maharashtra</td>\n",
              "      <td>YES</td>\n",
              "    </tr>\n",
              "    <tr>\n",
              "      <th>1</th>\n",
              "      <td>1-30-2018 19:00:00</td>\n",
              "      <td>F E</td>\n",
              "      <td>Mechanical Engineering</td>\n",
              "      <td>185</td>\n",
              "      <td>72</td>\n",
              "      <td>24</td>\n",
              "      <td>Result, Placement, Your relative/senior sugges...</td>\n",
              "      <td>Fee Issue, any other then specify</td>\n",
              "      <td>1 - The practical sessions are not take seriou...</td>\n",
              "      <td>Maharashtra</td>\n",
              "      <td>YES</td>\n",
              "    </tr>\n",
              "    <tr>\n",
              "      <th>2</th>\n",
              "      <td>1-29-2018 22:58:37</td>\n",
              "      <td>FE</td>\n",
              "      <td>Mechanical Engineering, Electronics and Teleco...</td>\n",
              "      <td>188</td>\n",
              "      <td>60</td>\n",
              "      <td>0</td>\n",
              "      <td>Teaching Facility</td>\n",
              "      <td>Rural area</td>\n",
              "      <td>Nothing</td>\n",
              "      <td>Maharashtra</td>\n",
              "      <td>YES</td>\n",
              "    </tr>\n",
              "    <tr>\n",
              "      <th>3</th>\n",
              "      <td>1-31-2018 15:49:43</td>\n",
              "      <td>F E</td>\n",
              "      <td>Mechanical Engineering</td>\n",
              "      <td>169</td>\n",
              "      <td>51</td>\n",
              "      <td>35</td>\n",
              "      <td>Your relative/senior suggested</td>\n",
              "      <td>Placement</td>\n",
              "      <td>Nothing</td>\n",
              "      <td>Maharashtra</td>\n",
              "      <td>YES</td>\n",
              "    </tr>\n",
              "    <tr>\n",
              "      <th>4</th>\n",
              "      <td>1-29-2018 15:05:28</td>\n",
              "      <td>FE</td>\n",
              "      <td>Computer Engineering</td>\n",
              "      <td>182</td>\n",
              "      <td>60</td>\n",
              "      <td>0</td>\n",
              "      <td>Placement, Teaching Facility, Infrastructure</td>\n",
              "      <td>Fee Issue</td>\n",
              "      <td>Nothing</td>\n",
              "      <td>Maharashtra</td>\n",
              "      <td>YES</td>\n",
              "    </tr>\n",
              "  </tbody>\n",
              "</table>\n",
              "</div>"
            ],
            "text/plain": [
              "            Timestamp Class  \\\n",
              "0  1-30-2018 10:04:23    FE   \n",
              "1  1-30-2018 19:00:00  F E    \n",
              "2  1-29-2018 22:58:37    FE   \n",
              "3  1-31-2018 15:49:43  F E    \n",
              "4  1-29-2018 15:05:28    FE   \n",
              "\n",
              "                                              Branch  PCM marks(Out of 300)  \\\n",
              "0                             Electrical Engineering                    259   \n",
              "1                             Mechanical Engineering                    185   \n",
              "2  Mechanical Engineering, Electronics and Teleco...                    188   \n",
              "3                             Mechanical Engineering                    169   \n",
              "4                               Computer Engineering                    182   \n",
              "\n",
              "   CET Score  JEE score                                  why chose college  \\\n",
              "0         92         21  Placement, Top in North Maharashtra Region, Yo...   \n",
              "1         72         24  Result, Placement, Your relative/senior sugges...   \n",
              "2         60          0                                  Teaching Facility   \n",
              "3         51         35                     Your relative/senior suggested   \n",
              "4         60          0       Placement, Teaching Facility, Infrastructure   \n",
              "\n",
              "     Reason for not selecting anyone  \\\n",
              "0                          Fee Issue   \n",
              "1  Fee Issue, any other then specify   \n",
              "2                         Rural area   \n",
              "3                          Placement   \n",
              "4                          Fee Issue   \n",
              "\n",
              "                                            Dislikes         State  \\\n",
              "0                No curriculum activity's in college   Maharashtra   \n",
              "1  1 - The practical sessions are not take seriou...   Maharashtra   \n",
              "2                                           Nothing    Maharashtra   \n",
              "3                                           Nothing   Maharashtra    \n",
              "4                                           Nothing   Maharashtra    \n",
              "\n",
              "  Satisfied from College  \n",
              "0                    YES  \n",
              "1                    YES  \n",
              "2                    YES  \n",
              "3                    YES  \n",
              "4                    YES  "
            ]
          },
          "metadata": {
            "tags": []
          },
          "execution_count": 2
        }
      ]
    },
    {
      "cell_type": "markdown",
      "metadata": {
        "id": "bjB2KgnlRSGb",
        "colab_type": "text"
      },
      "source": [
        "Details About the Dataset:\n",
        "\n",
        "As mentioned earlier the data is coming from the survey from existing First engineering students explanation of Attributes are follwing-\n",
        "\n",
        "\n",
        "Timestamp-This is the time details when student has submitted the survey.\n",
        "\n",
        "Class-Class of students.\n",
        "\n",
        "for security purpose Name of students and college name not displayed.\n",
        "\n",
        "Branch-Stream of engineering \n",
        "\n",
        "PCM -This is group of Physics ,chemistry and Mathematics.\n",
        "\n",
        "CET -Student get score in Common Entrance Test\n",
        "\n",
        "Jee-Score of Jee entrance exam.\n",
        "\n",
        "Now list of Questions\n",
        "\n",
        "why choose this college\n",
        "\n",
        "Reasons why your friends not choose this college,\n",
        "\n",
        "Dislike-Any dislike of college,Area where improvement needed\n",
        "\n",
        "state -belongs to which state get the information about the state\n",
        "Satisfied from college-Yes/No"
      ]
    },
    {
      "cell_type": "code",
      "metadata": {
        "id": "gpgHUr4jRSGc",
        "colab_type": "code",
        "colab": {},
        "outputId": "97b0b314-604f-42c3-a659-62ee5302d561"
      },
      "source": [
        "df.tail()#for showing the last five rows in dataset"
      ],
      "execution_count": 0,
      "outputs": [
        {
          "output_type": "execute_result",
          "data": {
            "text/html": [
              "<div>\n",
              "<style scoped>\n",
              "    .dataframe tbody tr th:only-of-type {\n",
              "        vertical-align: middle;\n",
              "    }\n",
              "\n",
              "    .dataframe tbody tr th {\n",
              "        vertical-align: top;\n",
              "    }\n",
              "\n",
              "    .dataframe thead th {\n",
              "        text-align: right;\n",
              "    }\n",
              "</style>\n",
              "<table border=\"1\" class=\"dataframe\">\n",
              "  <thead>\n",
              "    <tr style=\"text-align: right;\">\n",
              "      <th></th>\n",
              "      <th>Timestamp</th>\n",
              "      <th>Class</th>\n",
              "      <th>Branch</th>\n",
              "      <th>PCM marks(Out of 300)</th>\n",
              "      <th>CET Score</th>\n",
              "      <th>JEE score</th>\n",
              "      <th>why chose college</th>\n",
              "      <th>Reason for not selecting anyone</th>\n",
              "      <th>Dislikes</th>\n",
              "      <th>State</th>\n",
              "      <th>Satisfied from College</th>\n",
              "    </tr>\n",
              "  </thead>\n",
              "  <tbody>\n",
              "    <tr>\n",
              "      <th>137</th>\n",
              "      <td>1-25-2018 13:47:53</td>\n",
              "      <td>F E</td>\n",
              "      <td>Mechanical Engineering</td>\n",
              "      <td>213</td>\n",
              "      <td>62</td>\n",
              "      <td>0</td>\n",
              "      <td>Placement, Top in North Maharashtra Region, Te...</td>\n",
              "      <td>Fee Issue</td>\n",
              "      <td>NO</td>\n",
              "      <td>Maharashtra</td>\n",
              "      <td>YES</td>\n",
              "    </tr>\n",
              "    <tr>\n",
              "      <th>138</th>\n",
              "      <td>1-25-2018 13:51:42</td>\n",
              "      <td>FE</td>\n",
              "      <td>Mechanical Engineering</td>\n",
              "      <td>232</td>\n",
              "      <td>61</td>\n",
              "      <td>21</td>\n",
              "      <td>Result, Placement, Top in North Maharashtra Re...</td>\n",
              "      <td>Fee Issue</td>\n",
              "      <td>NOTHING</td>\n",
              "      <td>Maharashtra</td>\n",
              "      <td>YES</td>\n",
              "    </tr>\n",
              "    <tr>\n",
              "      <th>139</th>\n",
              "      <td>1-25-2018 13:46:49</td>\n",
              "      <td>F E</td>\n",
              "      <td>Mechanical Engineering</td>\n",
              "      <td>60</td>\n",
              "      <td>60</td>\n",
              "      <td>10</td>\n",
              "      <td>Infrastructure</td>\n",
              "      <td>any other then specify</td>\n",
              "      <td>Nothing</td>\n",
              "      <td>Maharashtra</td>\n",
              "      <td>YES</td>\n",
              "    </tr>\n",
              "    <tr>\n",
              "      <th>140</th>\n",
              "      <td>1-25-2018 13:50:56</td>\n",
              "      <td>FE</td>\n",
              "      <td>Mechanical Engineering</td>\n",
              "      <td>180</td>\n",
              "      <td>60</td>\n",
              "      <td>0</td>\n",
              "      <td>Placement, Top in North Maharashtra Region, Yo...</td>\n",
              "      <td>Fee Issue</td>\n",
              "      <td>no</td>\n",
              "      <td>Maharashtra</td>\n",
              "      <td>YES</td>\n",
              "    </tr>\n",
              "    <tr>\n",
              "      <th>141</th>\n",
              "      <td>1-30-2018 14:25:21</td>\n",
              "      <td>F E</td>\n",
              "      <td>Computer Engineering</td>\n",
              "      <td>200</td>\n",
              "      <td>0</td>\n",
              "      <td>0</td>\n",
              "      <td>Placement, Top in North Maharashtra Region, In...</td>\n",
              "      <td>Fee Issue</td>\n",
              "      <td>Nothing</td>\n",
              "      <td>Maharashtra</td>\n",
              "      <td>YES</td>\n",
              "    </tr>\n",
              "  </tbody>\n",
              "</table>\n",
              "</div>"
            ],
            "text/plain": [
              "              Timestamp Class                  Branch  PCM marks(Out of 300)  \\\n",
              "137  1-25-2018 13:47:53  F E   Mechanical Engineering                    213   \n",
              "138  1-25-2018 13:51:42    FE  Mechanical Engineering                    232   \n",
              "139  1-25-2018 13:46:49  F E   Mechanical Engineering                     60   \n",
              "140  1-25-2018 13:50:56    FE  Mechanical Engineering                    180   \n",
              "141  1-30-2018 14:25:21  F E     Computer Engineering                    200   \n",
              "\n",
              "     CET Score  JEE score                                  why chose college  \\\n",
              "137         62          0  Placement, Top in North Maharashtra Region, Te...   \n",
              "138         61         21  Result, Placement, Top in North Maharashtra Re...   \n",
              "139         60         10                                     Infrastructure   \n",
              "140         60          0  Placement, Top in North Maharashtra Region, Yo...   \n",
              "141          0          0  Placement, Top in North Maharashtra Region, In...   \n",
              "\n",
              "    Reason for not selecting anyone  Dislikes        State  \\\n",
              "137                       Fee Issue        NO  Maharashtra   \n",
              "138                       Fee Issue   NOTHING  Maharashtra   \n",
              "139          any other then specify  Nothing   Maharashtra   \n",
              "140                       Fee Issue        no  Maharashtra   \n",
              "141                       Fee Issue  Nothing   Maharashtra   \n",
              "\n",
              "    Satisfied from College  \n",
              "137                    YES  \n",
              "138                    YES  \n",
              "139                    YES  \n",
              "140                    YES  \n",
              "141                    YES  "
            ]
          },
          "metadata": {
            "tags": []
          },
          "execution_count": 3
        }
      ]
    },
    {
      "cell_type": "code",
      "metadata": {
        "id": "r5VU1aHDRSGf",
        "colab_type": "code",
        "colab": {},
        "outputId": "79725e24-3649-4b65-f35d-d694370e49ac"
      },
      "source": [
        "df.isnull().sum()# for displaying the null values"
      ],
      "execution_count": 0,
      "outputs": [
        {
          "output_type": "execute_result",
          "data": {
            "text/plain": [
              "Timestamp                          0\n",
              "Class                              0\n",
              "Branch                             0\n",
              "PCM marks(Out of 300)              0\n",
              "CET Score                          0\n",
              "JEE score                          0\n",
              "why chose college                  0\n",
              "Reason for not selecting anyone    0\n",
              "Dislikes                           0\n",
              "State                              0\n",
              "Satisfied from College             0\n",
              "dtype: int64"
            ]
          },
          "metadata": {
            "tags": []
          },
          "execution_count": 4
        }
      ]
    },
    {
      "cell_type": "markdown",
      "metadata": {
        "id": "Pmr-QE2ERSGl",
        "colab_type": "text"
      },
      "source": [
        "good news no null values inside the datasets."
      ]
    },
    {
      "cell_type": "code",
      "metadata": {
        "id": "UoXo2wRCRSGm",
        "colab_type": "code",
        "colab": {},
        "outputId": "175f6a45-767d-4fb8-c956-d7b0febae86a"
      },
      "source": [
        "df.info() #displaying information about the dataset"
      ],
      "execution_count": 0,
      "outputs": [
        {
          "output_type": "stream",
          "text": [
            "<class 'pandas.core.frame.DataFrame'>\n",
            "RangeIndex: 142 entries, 0 to 141\n",
            "Data columns (total 11 columns):\n",
            "Timestamp                          142 non-null object\n",
            "Class                              142 non-null object\n",
            "Branch                             142 non-null object\n",
            "PCM marks(Out of 300)              142 non-null int64\n",
            "CET Score                          142 non-null int64\n",
            "JEE score                          142 non-null int64\n",
            "why chose college                  142 non-null object\n",
            "Reason for not selecting anyone    142 non-null object\n",
            "Dislikes                           142 non-null object\n",
            "State                              142 non-null object\n",
            "Satisfied from College             142 non-null object\n",
            "dtypes: int64(3), object(8)\n",
            "memory usage: 12.3+ KB\n"
          ],
          "name": "stdout"
        }
      ]
    },
    {
      "cell_type": "code",
      "metadata": {
        "id": "WL0Q2iyyRSGq",
        "colab_type": "code",
        "colab": {},
        "outputId": "699bde87-ffe6-4d6a-ae6c-a2a986a084c2"
      },
      "source": [
        "#for size of dataset\n",
        "df.shape"
      ],
      "execution_count": 0,
      "outputs": [
        {
          "output_type": "execute_result",
          "data": {
            "text/plain": [
              "(142, 11)"
            ]
          },
          "metadata": {
            "tags": []
          },
          "execution_count": 6
        }
      ]
    },
    {
      "cell_type": "code",
      "metadata": {
        "id": "ImvOSfNLRSGt",
        "colab_type": "code",
        "colab": {},
        "outputId": "f5a230ec-e583-4c1f-afc8-ff741dcde377"
      },
      "source": [
        "df.describe()#It shows the description of data"
      ],
      "execution_count": 0,
      "outputs": [
        {
          "output_type": "execute_result",
          "data": {
            "text/html": [
              "<div>\n",
              "<style scoped>\n",
              "    .dataframe tbody tr th:only-of-type {\n",
              "        vertical-align: middle;\n",
              "    }\n",
              "\n",
              "    .dataframe tbody tr th {\n",
              "        vertical-align: top;\n",
              "    }\n",
              "\n",
              "    .dataframe thead th {\n",
              "        text-align: right;\n",
              "    }\n",
              "</style>\n",
              "<table border=\"1\" class=\"dataframe\">\n",
              "  <thead>\n",
              "    <tr style=\"text-align: right;\">\n",
              "      <th></th>\n",
              "      <th>PCM marks(Out of 300)</th>\n",
              "      <th>CET Score</th>\n",
              "      <th>JEE score</th>\n",
              "    </tr>\n",
              "  </thead>\n",
              "  <tbody>\n",
              "    <tr>\n",
              "      <th>count</th>\n",
              "      <td>142.000000</td>\n",
              "      <td>142.000000</td>\n",
              "      <td>142.000000</td>\n",
              "    </tr>\n",
              "    <tr>\n",
              "      <th>mean</th>\n",
              "      <td>182.380282</td>\n",
              "      <td>66.612676</td>\n",
              "      <td>19.401408</td>\n",
              "    </tr>\n",
              "    <tr>\n",
              "      <th>std</th>\n",
              "      <td>49.034903</td>\n",
              "      <td>20.853371</td>\n",
              "      <td>19.263039</td>\n",
              "    </tr>\n",
              "    <tr>\n",
              "      <th>min</th>\n",
              "      <td>40.000000</td>\n",
              "      <td>0.000000</td>\n",
              "      <td>-8.000000</td>\n",
              "    </tr>\n",
              "    <tr>\n",
              "      <th>25%</th>\n",
              "      <td>166.000000</td>\n",
              "      <td>59.000000</td>\n",
              "      <td>0.000000</td>\n",
              "    </tr>\n",
              "    <tr>\n",
              "      <th>50%</th>\n",
              "      <td>190.500000</td>\n",
              "      <td>65.000000</td>\n",
              "      <td>16.000000</td>\n",
              "    </tr>\n",
              "    <tr>\n",
              "      <th>75%</th>\n",
              "      <td>215.000000</td>\n",
              "      <td>74.000000</td>\n",
              "      <td>31.500000</td>\n",
              "    </tr>\n",
              "    <tr>\n",
              "      <th>max</th>\n",
              "      <td>259.000000</td>\n",
              "      <td>124.000000</td>\n",
              "      <td>77.000000</td>\n",
              "    </tr>\n",
              "  </tbody>\n",
              "</table>\n",
              "</div>"
            ],
            "text/plain": [
              "       PCM marks(Out of 300)   CET Score   JEE score\n",
              "count             142.000000  142.000000  142.000000\n",
              "mean              182.380282   66.612676   19.401408\n",
              "std                49.034903   20.853371   19.263039\n",
              "min                40.000000    0.000000   -8.000000\n",
              "25%               166.000000   59.000000    0.000000\n",
              "50%               190.500000   65.000000   16.000000\n",
              "75%               215.000000   74.000000   31.500000\n",
              "max               259.000000  124.000000   77.000000"
            ]
          },
          "metadata": {
            "tags": []
          },
          "execution_count": 7
        }
      ]
    },
    {
      "cell_type": "markdown",
      "metadata": {
        "id": "OgtGCxPDRSGw",
        "colab_type": "text"
      },
      "source": [
        "What can we infer from the above describe function?\n",
        "1.\tLook at the Satisfaction column ,the data set has in the form of Yes and No and would be interesting to know more about it as we progress.\n",
        "2.Maximum value of PCM score is 259 out of 300.\n",
        "all this columns-\"PCM Marks\",\"CET Score\",\"Jee\" scores it is the variables shows the quality of student.\n",
        "\n",
        "All the numerical attributes showing the input variables,here we want to know about the existaence students \n",
        "are satified or not from college.\n",
        "So we need output variable.\n",
        "\n",
        "\n",
        "so first of all we will have to replace this categorical data \"Yes\" -1 and \"No\"-0\n"
      ]
    },
    {
      "cell_type": "code",
      "metadata": {
        "id": "sRnxJCtJRSGx",
        "colab_type": "code",
        "colab": {},
        "outputId": "ec8ae694-2140-4efb-cebd-736bdd001c15"
      },
      "source": [
        "num_val={'YES':1,'NO':0}#replace yes and No to 1 and 0 \n",
        "df['Satisfied from College']=df[\"Satisfied from College\"].apply(lambda x:num_val[x])\n",
        "df.head()\n",
        "#Satisfied from College this is output variable"
      ],
      "execution_count": 0,
      "outputs": [
        {
          "output_type": "execute_result",
          "data": {
            "text/html": [
              "<div>\n",
              "<style scoped>\n",
              "    .dataframe tbody tr th:only-of-type {\n",
              "        vertical-align: middle;\n",
              "    }\n",
              "\n",
              "    .dataframe tbody tr th {\n",
              "        vertical-align: top;\n",
              "    }\n",
              "\n",
              "    .dataframe thead th {\n",
              "        text-align: right;\n",
              "    }\n",
              "</style>\n",
              "<table border=\"1\" class=\"dataframe\">\n",
              "  <thead>\n",
              "    <tr style=\"text-align: right;\">\n",
              "      <th></th>\n",
              "      <th>Timestamp</th>\n",
              "      <th>Class</th>\n",
              "      <th>Branch</th>\n",
              "      <th>PCM marks(Out of 300)</th>\n",
              "      <th>CET Score</th>\n",
              "      <th>JEE score</th>\n",
              "      <th>why chose college</th>\n",
              "      <th>Reason for not selecting anyone</th>\n",
              "      <th>Dislikes</th>\n",
              "      <th>State</th>\n",
              "      <th>Satisfied from College</th>\n",
              "    </tr>\n",
              "  </thead>\n",
              "  <tbody>\n",
              "    <tr>\n",
              "      <th>0</th>\n",
              "      <td>1-30-2018 10:04:23</td>\n",
              "      <td>FE</td>\n",
              "      <td>Electrical Engineering</td>\n",
              "      <td>259</td>\n",
              "      <td>92</td>\n",
              "      <td>21</td>\n",
              "      <td>Placement, Top in North Maharashtra Region, Yo...</td>\n",
              "      <td>Fee Issue</td>\n",
              "      <td>No curriculum activity's in college</td>\n",
              "      <td>Maharashtra</td>\n",
              "      <td>1</td>\n",
              "    </tr>\n",
              "    <tr>\n",
              "      <th>1</th>\n",
              "      <td>1-30-2018 19:00:00</td>\n",
              "      <td>F E</td>\n",
              "      <td>Mechanical Engineering</td>\n",
              "      <td>185</td>\n",
              "      <td>72</td>\n",
              "      <td>24</td>\n",
              "      <td>Result, Placement, Your relative/senior sugges...</td>\n",
              "      <td>Fee Issue, any other then specify</td>\n",
              "      <td>1 - The practical sessions are not take seriou...</td>\n",
              "      <td>Maharashtra</td>\n",
              "      <td>1</td>\n",
              "    </tr>\n",
              "    <tr>\n",
              "      <th>2</th>\n",
              "      <td>1-29-2018 22:58:37</td>\n",
              "      <td>FE</td>\n",
              "      <td>Mechanical Engineering, Electronics and Teleco...</td>\n",
              "      <td>188</td>\n",
              "      <td>60</td>\n",
              "      <td>0</td>\n",
              "      <td>Teaching Facility</td>\n",
              "      <td>Rural area</td>\n",
              "      <td>Nothing</td>\n",
              "      <td>Maharashtra</td>\n",
              "      <td>1</td>\n",
              "    </tr>\n",
              "    <tr>\n",
              "      <th>3</th>\n",
              "      <td>1-31-2018 15:49:43</td>\n",
              "      <td>F E</td>\n",
              "      <td>Mechanical Engineering</td>\n",
              "      <td>169</td>\n",
              "      <td>51</td>\n",
              "      <td>35</td>\n",
              "      <td>Your relative/senior suggested</td>\n",
              "      <td>Placement</td>\n",
              "      <td>Nothing</td>\n",
              "      <td>Maharashtra</td>\n",
              "      <td>1</td>\n",
              "    </tr>\n",
              "    <tr>\n",
              "      <th>4</th>\n",
              "      <td>1-29-2018 15:05:28</td>\n",
              "      <td>FE</td>\n",
              "      <td>Computer Engineering</td>\n",
              "      <td>182</td>\n",
              "      <td>60</td>\n",
              "      <td>0</td>\n",
              "      <td>Placement, Teaching Facility, Infrastructure</td>\n",
              "      <td>Fee Issue</td>\n",
              "      <td>Nothing</td>\n",
              "      <td>Maharashtra</td>\n",
              "      <td>1</td>\n",
              "    </tr>\n",
              "  </tbody>\n",
              "</table>\n",
              "</div>"
            ],
            "text/plain": [
              "            Timestamp Class  \\\n",
              "0  1-30-2018 10:04:23    FE   \n",
              "1  1-30-2018 19:00:00  F E    \n",
              "2  1-29-2018 22:58:37    FE   \n",
              "3  1-31-2018 15:49:43  F E    \n",
              "4  1-29-2018 15:05:28    FE   \n",
              "\n",
              "                                              Branch  PCM marks(Out of 300)  \\\n",
              "0                             Electrical Engineering                    259   \n",
              "1                             Mechanical Engineering                    185   \n",
              "2  Mechanical Engineering, Electronics and Teleco...                    188   \n",
              "3                             Mechanical Engineering                    169   \n",
              "4                               Computer Engineering                    182   \n",
              "\n",
              "   CET Score  JEE score                                  why chose college  \\\n",
              "0         92         21  Placement, Top in North Maharashtra Region, Yo...   \n",
              "1         72         24  Result, Placement, Your relative/senior sugges...   \n",
              "2         60          0                                  Teaching Facility   \n",
              "3         51         35                     Your relative/senior suggested   \n",
              "4         60          0       Placement, Teaching Facility, Infrastructure   \n",
              "\n",
              "     Reason for not selecting anyone  \\\n",
              "0                          Fee Issue   \n",
              "1  Fee Issue, any other then specify   \n",
              "2                         Rural area   \n",
              "3                          Placement   \n",
              "4                          Fee Issue   \n",
              "\n",
              "                                            Dislikes         State  \\\n",
              "0                No curriculum activity's in college   Maharashtra   \n",
              "1  1 - The practical sessions are not take seriou...   Maharashtra   \n",
              "2                                           Nothing    Maharashtra   \n",
              "3                                           Nothing   Maharashtra    \n",
              "4                                           Nothing   Maharashtra    \n",
              "\n",
              "   Satisfied from College  \n",
              "0                       1  \n",
              "1                       1  \n",
              "2                       1  \n",
              "3                       1  \n",
              "4                       1  "
            ]
          },
          "metadata": {
            "tags": []
          },
          "execution_count": 8
        }
      ]
    },
    {
      "cell_type": "markdown",
      "metadata": {
        "id": "PWqNsaLwRSG1",
        "colab_type": "text"
      },
      "source": [
        "Now , we are going to see some visualization and also going to see how and what can we infer from visualization\n",
        "\n",
        "Lets start Exploratory Data Analysis EDA"
      ]
    },
    {
      "cell_type": "code",
      "metadata": {
        "id": "zDiEdfVrRSG2",
        "colab_type": "code",
        "colab": {},
        "outputId": "77cb8923-afe4-4ee0-a78b-60a316510f81"
      },
      "source": [
        "sns.heatmap(df.isnull())"
      ],
      "execution_count": 0,
      "outputs": [
        {
          "output_type": "execute_result",
          "data": {
            "text/plain": [
              "<matplotlib.axes._subplots.AxesSubplot at 0x1295b5cc400>"
            ]
          },
          "metadata": {
            "tags": []
          },
          "execution_count": 9
        },
        {
          "output_type": "display_data",
          "data": {
            "image/png": "[encoded data removed]",
            "text/plain": [
              "<Figure size 432x288 with 2 Axes>"
            ]
          },
          "metadata": {
            "tags": [],
            "needs_background": "light"
          }
        }
      ]
    },
    {
      "cell_type": "code",
      "metadata": {
        "id": "nNJGLqaaRSG6",
        "colab_type": "code",
        "colab": {},
        "outputId": "5e009678-ac53-4e51-ad65-1140f0dc81e8"
      },
      "source": [
        "df['PCM marks(Out of 300)'].plot.box()\n",
        "# displaying outliers"
      ],
      "execution_count": 0,
      "outputs": [
        {
          "output_type": "execute_result",
          "data": {
            "text/plain": [
              "<matplotlib.axes._subplots.AxesSubplot at 0x1295b922e10>"
            ]
          },
          "metadata": {
            "tags": []
          },
          "execution_count": 10
        },
        {
          "output_type": "display_data",
          "data": {
            "image/png": "[encoded data removed]",
            "text/plain": [
              "<Figure size 432x288 with 1 Axes>"
            ]
          },
          "metadata": {
            "tags": [],
            "needs_background": "light"
          }
        }
      ]
    },
    {
      "cell_type": "markdown",
      "metadata": {
        "id": "VCnGOsZ_RSG9",
        "colab_type": "text"
      },
      "source": [
        " visualization ,through box plot\n",
        " from the plot we can see that outliers are present it could be affect in our result of accuracy."
      ]
    },
    {
      "cell_type": "code",
      "metadata": {
        "id": "4LnlxdwyRSG-",
        "colab_type": "code",
        "colab": {},
        "outputId": "30840708-69bd-4d19-e288-b6ea1ec4d066"
      },
      "source": [
        "df['CET Score'].plot.box()"
      ],
      "execution_count": 0,
      "outputs": [
        {
          "output_type": "execute_result",
          "data": {
            "text/plain": [
              "<matplotlib.axes._subplots.AxesSubplot at 0x1295b9fc358>"
            ]
          },
          "metadata": {
            "tags": []
          },
          "execution_count": 11
        },
        {
          "output_type": "display_data",
          "data": {
            "image/png": "[encoded data removed]",
            "text/plain": [
              "<Figure size 432x288 with 1 Axes>"
            ]
          },
          "metadata": {
            "tags": [],
            "needs_background": "light"
          }
        }
      ]
    },
    {
      "cell_type": "code",
      "metadata": {
        "id": "J_NUAQVwRSHB",
        "colab_type": "code",
        "colab": {},
        "outputId": "be74309d-6234-4f6a-92e0-129fd3730829"
      },
      "source": [
        "df['JEE score'].plot.box()"
      ],
      "execution_count": 0,
      "outputs": [
        {
          "output_type": "execute_result",
          "data": {
            "text/plain": [
              "<matplotlib.axes._subplots.AxesSubplot at 0x1295ba6e4a8>"
            ]
          },
          "metadata": {
            "tags": []
          },
          "execution_count": 12
        },
        {
          "output_type": "display_data",
          "data": {
            "image/png": "[encoded data removed]",
            "text/plain": [
              "<Figure size 432x288 with 1 Axes>"
            ]
          },
          "metadata": {
            "tags": [],
            "needs_background": "light"
          }
        }
      ]
    },
    {
      "cell_type": "code",
      "metadata": {
        "id": "8qxnm8xKRSHF",
        "colab_type": "code",
        "colab": {},
        "outputId": "bf31090a-c9fb-4ed7-fb04-c957a854c612"
      },
      "source": [
        "df['Satisfied from College'].plot.box()"
      ],
      "execution_count": 0,
      "outputs": [
        {
          "output_type": "execute_result",
          "data": {
            "text/plain": [
              "<matplotlib.axes._subplots.AxesSubplot at 0x1295bacd9e8>"
            ]
          },
          "metadata": {
            "tags": []
          },
          "execution_count": 13
        },
        {
          "output_type": "display_data",
          "data": {
            "image/png": "[encoded data removed]",
            "text/plain": [
              "<Figure size 432x288 with 1 Axes>"
            ]
          },
          "metadata": {
            "tags": [],
            "needs_background": "light"
          }
        }
      ]
    },
    {
      "cell_type": "code",
      "metadata": {
        "id": "48PWXtfYRSHJ",
        "colab_type": "code",
        "colab": {},
        "outputId": "bb407ce2-e208-4575-fe45-359727591c6b"
      },
      "source": [
        "df.plot(kind='box',subplots=True,layout=(2,2))\n",
        "plt.show()"
      ],
      "execution_count": 0,
      "outputs": [
        {
          "output_type": "display_data",
          "data": {
            "image/png": "[encoded data removed]",
            "text/plain": [
              "<Figure size 432x288 with 4 Axes>"
            ]
          },
          "metadata": {
            "tags": [],
            "needs_background": "light"
          }
        }
      ]
    },
    {
      "cell_type": "code",
      "metadata": {
        "id": "-M2A5AiRRSHM",
        "colab_type": "code",
        "colab": {},
        "outputId": "a47b2864-6d5e-4480-8dc2-814bd2911883"
      },
      "source": [
        "corr_hmap=df.corr()\n",
        "plt.figure(figsize=(4,4))\n",
        "sns.heatmap(corr_hmap,annot=True)\n",
        "plt.show()"
      ],
      "execution_count": 0,
      "outputs": [
        {
          "output_type": "display_data",
          "data": {
            "image/png": "[encoded data removed]",
            "text/plain": [
              "<Figure size 288x288 with 2 Axes>"
            ]
          },
          "metadata": {
            "tags": [],
            "needs_background": "light"
          }
        }
      ]
    },
    {
      "cell_type": "markdown",
      "metadata": {
        "id": "5K8izkdERSHQ",
        "colab_type": "text"
      },
      "source": [
        "from the data we can say no strong between correlation between input and output varables"
      ]
    },
    {
      "cell_type": "code",
      "metadata": {
        "id": "qPZgF0dcRSHR",
        "colab_type": "code",
        "colab": {},
        "outputId": "712b75c2-2927-4f55-f6cb-fa4212f62098"
      },
      "source": [
        "sns.pairplot(df)"
      ],
      "execution_count": 0,
      "outputs": [
        {
          "output_type": "execute_result",
          "data": {
            "text/plain": [
              "<seaborn.axisgrid.PairGrid at 0x1295bc90080>"
            ]
          },
          "metadata": {
            "tags": []
          },
          "execution_count": 16
        },
        {
          "output_type": "display_data",
          "data": {
            "image/png": "[encoded data removed]",
            "text/plain": [
              "<Figure size 720x720 with 20 Axes>"
            ]
          },
          "metadata": {
            "tags": [],
            "needs_background": "light"
          }
        }
      ]
    },
    {
      "cell_type": "markdown",
      "metadata": {
        "id": "ZsF7SO1SRSHU",
        "colab_type": "text"
      },
      "source": [
        "From sns plot here we can see the data is too much spreaded\n",
        "\n",
        "As we can see from all the above representation that many factors are are affecting the satisfaction of students,like PCM scores,JEE score because fro Box plot we are getting outliers and also in the  correlation_hmap plot we did not get any strong correlation between input and outliers."
      ]
    },
    {
      "cell_type": "markdown",
      "metadata": {
        "id": "RS4T5hz-RSHV",
        "colab_type": "text"
      },
      "source": [
        "4.Pre-processing Pipeline\n",
        "we have to define the attributes for traing and testing the data"
      ]
    },
    {
      "cell_type": "code",
      "metadata": {
        "id": "bB46ja10RSHW",
        "colab_type": "code",
        "colab": {},
        "outputId": "547ab436-59ed-4685-a524-989752382780"
      },
      "source": [
        "#Defining the x variables we need only numerical Attributes\n",
        "x=df.iloc[:,3:-5]\n",
        "x.head()"
      ],
      "execution_count": 0,
      "outputs": [
        {
          "output_type": "execute_result",
          "data": {
            "text/html": [
              "<div>\n",
              "<style scoped>\n",
              "    .dataframe tbody tr th:only-of-type {\n",
              "        vertical-align: middle;\n",
              "    }\n",
              "\n",
              "    .dataframe tbody tr th {\n",
              "        vertical-align: top;\n",
              "    }\n",
              "\n",
              "    .dataframe thead th {\n",
              "        text-align: right;\n",
              "    }\n",
              "</style>\n",
              "<table border=\"1\" class=\"dataframe\">\n",
              "  <thead>\n",
              "    <tr style=\"text-align: right;\">\n",
              "      <th></th>\n",
              "      <th>PCM marks(Out of 300)</th>\n",
              "      <th>CET Score</th>\n",
              "      <th>JEE score</th>\n",
              "    </tr>\n",
              "  </thead>\n",
              "  <tbody>\n",
              "    <tr>\n",
              "      <th>0</th>\n",
              "      <td>259</td>\n",
              "      <td>92</td>\n",
              "      <td>21</td>\n",
              "    </tr>\n",
              "    <tr>\n",
              "      <th>1</th>\n",
              "      <td>185</td>\n",
              "      <td>72</td>\n",
              "      <td>24</td>\n",
              "    </tr>\n",
              "    <tr>\n",
              "      <th>2</th>\n",
              "      <td>188</td>\n",
              "      <td>60</td>\n",
              "      <td>0</td>\n",
              "    </tr>\n",
              "    <tr>\n",
              "      <th>3</th>\n",
              "      <td>169</td>\n",
              "      <td>51</td>\n",
              "      <td>35</td>\n",
              "    </tr>\n",
              "    <tr>\n",
              "      <th>4</th>\n",
              "      <td>182</td>\n",
              "      <td>60</td>\n",
              "      <td>0</td>\n",
              "    </tr>\n",
              "  </tbody>\n",
              "</table>\n",
              "</div>"
            ],
            "text/plain": [
              "   PCM marks(Out of 300)  CET Score  JEE score\n",
              "0                    259         92         21\n",
              "1                    185         72         24\n",
              "2                    188         60          0\n",
              "3                    169         51         35\n",
              "4                    182         60          0"
            ]
          },
          "metadata": {
            "tags": []
          },
          "execution_count": 17
        }
      ]
    },
    {
      "cell_type": "code",
      "metadata": {
        "id": "yZ7Y8adFRSHd",
        "colab_type": "code",
        "colab": {},
        "outputId": "1b1b256f-678e-4db0-ec6a-619610e5e916"
      },
      "source": [
        "#now selecting output Variables\n",
        "y=df.iloc[:,-1]\n",
        "y.head()"
      ],
      "execution_count": 0,
      "outputs": [
        {
          "output_type": "execute_result",
          "data": {
            "text/plain": [
              "0    1\n",
              "1    1\n",
              "2    1\n",
              "3    1\n",
              "4    1\n",
              "Name: Satisfied from College, dtype: int64"
            ]
          },
          "metadata": {
            "tags": []
          },
          "execution_count": 18
        }
      ]
    },
    {
      "cell_type": "code",
      "metadata": {
        "id": "ow8beKicRSHl",
        "colab_type": "code",
        "colab": {}
      },
      "source": [
        "#Importing the trsin and test library\n",
        "import sklearn\n",
        "from sklearn.model_selection import train_test_split"
      ],
      "execution_count": 0,
      "outputs": []
    },
    {
      "cell_type": "code",
      "metadata": {
        "id": "zJtQhDHTRSHo",
        "colab_type": "code",
        "colab": {}
      },
      "source": [
        "x_train,x_test,y_train,y_test=train_test_split(x,y,test_size=.22,random_state=45)"
      ],
      "execution_count": 0,
      "outputs": []
    },
    {
      "cell_type": "markdown",
      "metadata": {
        "id": "WDpBJ7M3RSHr",
        "colab_type": "text"
      },
      "source": [
        "# 5.Building Machine Learning Models\n",
        "\n",
        "\n",
        "\n",
        "The main objective of this project to identify the most responsive of satisfaction of students from colleges if we get answer in No then it is needful to provide facility to students. So that colleges can improve their admission.\n",
        "To Achieve this objective, classification algorithm will be employed by analyzing Students statistics , a classification model will do built to classify all clients into two groups yes to Satisfy No to Unsatisfied.\n"
      ]
    },
    {
      "cell_type": "code",
      "metadata": {
        "id": "ksgl3ia3RSHs",
        "colab_type": "code",
        "colab": {}
      },
      "source": [
        "from sklearn.linear_model import LogisticRegression #out variable is not continuous so we have to take Logistic Regressor\n",
        "\n",
        "from sklearn.metrics import accuracy_score#displaying Accuracy Score\n",
        "from sklearn.metrics import confusion_matrix,classification_report#Displaying Confusion Matrix\n",
        "\n",
        "from sklearn.svm import SVC\n",
        "import warnings\n",
        "warnings.filterwarnings('ignore')"
      ],
      "execution_count": 0,
      "outputs": []
    },
    {
      "cell_type": "markdown",
      "metadata": {
        "id": "9EePOenTRSHv",
        "colab_type": "text"
      },
      "source": [
        "Four different classification algorithms (Logistic Regression, K-Neighbors Classifier, Decision Tree Classifier, and Gaussian NB) are run on the dataset and the best-performing one will be used to build the classification model."
      ]
    },
    {
      "cell_type": "code",
      "metadata": {
        "id": "lULY9MScRSHw",
        "colab_type": "code",
        "colab": {}
      },
      "source": [
        "#Lets start Model making Logistic Regression\n",
        "lr=LogisticRegression()"
      ],
      "execution_count": 0,
      "outputs": []
    },
    {
      "cell_type": "code",
      "metadata": {
        "id": "byXasVWHRSHz",
        "colab_type": "code",
        "colab": {},
        "outputId": "68ee0a8a-f341-4d96-ee6d-ff69a741c662"
      },
      "source": [
        "lr.fit(x_train,y_train)\n",
        "lr.score(x_train,y_train)\n",
        "predlr=lr.predict(x_test)\n",
        "print(accuracy_score(y_test,predlr))\n",
        "print(confusion_matrix(y_test,predlr))\n",
        "print(classification_report(y_test,predlr))"
      ],
      "execution_count": 0,
      "outputs": [
        {
          "output_type": "stream",
          "text": [
            "0.90625\n",
            "[[ 0  3]\n",
            " [ 0 29]]\n",
            "              precision    recall  f1-score   support\n",
            "\n",
            "           0       0.00      0.00      0.00         3\n",
            "           1       0.91      1.00      0.95        29\n",
            "\n",
            "    accuracy                           0.91        32\n",
            "   macro avg       0.45      0.50      0.48        32\n",
            "weighted avg       0.82      0.91      0.86        32\n",
            "\n"
          ],
          "name": "stdout"
        }
      ]
    },
    {
      "cell_type": "markdown",
      "metadata": {
        "id": "IpF_F2EYRSH2",
        "colab_type": "text"
      },
      "source": [
        "So from Logistic Regression we get 90% Accuracy so we can say the students are Satisfied after taking the Admission in college.\n",
        "lets use some other Algorithm\n"
      ]
    },
    {
      "cell_type": "code",
      "metadata": {
        "id": "uqUVpDmxRSH2",
        "colab_type": "code",
        "colab": {},
        "outputId": "f8cc1576-2331-4ab2-cd5d-f6087b676ee4"
      },
      "source": [
        "#Prediction model throgh supported vector\n",
        "svc=SVC()\n",
        "classifier=SVC(kernel='linear',random_state=0)\n",
        "classifier.fit(x_train,y_train)"
      ],
      "execution_count": 0,
      "outputs": [
        {
          "output_type": "execute_result",
          "data": {
            "text/plain": [
              "SVC(C=1.0, cache_size=200, class_weight=None, coef0=0.0,\n",
              "    decision_function_shape='ovr', degree=3, gamma='auto_deprecated',\n",
              "    kernel='linear', max_iter=-1, probability=False, random_state=0,\n",
              "    shrinking=True, tol=0.001, verbose=False)"
            ]
          },
          "metadata": {
            "tags": []
          },
          "execution_count": 37
        }
      ]
    },
    {
      "cell_type": "code",
      "metadata": {
        "id": "XEnUfXHIRSH6",
        "colab_type": "code",
        "colab": {},
        "outputId": "3736087b-df71-4886-e5df-5cd746313739"
      },
      "source": [
        "svc.fit(x_train,y_train)\n",
        "svc.score(x_train,y_train)\n",
        "predsvc=svc.predict(x_test)\n",
        "print(accuracy_score(y_test,predsvc))\n",
        "print(confusion_matrix(y_test,predsvc))\n",
        "print(classification_report(y_test,predsvc))\n"
      ],
      "execution_count": 0,
      "outputs": [
        {
          "output_type": "stream",
          "text": [
            "0.90625\n",
            "[[ 0  3]\n",
            " [ 0 29]]\n",
            "              precision    recall  f1-score   support\n",
            "\n",
            "           0       0.00      0.00      0.00         3\n",
            "           1       0.91      1.00      0.95        29\n",
            "\n",
            "    accuracy                           0.91        32\n",
            "   macro avg       0.45      0.50      0.48        32\n",
            "weighted avg       0.82      0.91      0.86        32\n",
            "\n"
          ],
          "name": "stdout"
        }
      ]
    },
    {
      "cell_type": "code",
      "metadata": {
        "id": "4FTVCSvTRSH9",
        "colab_type": "code",
        "colab": {}
      },
      "source": [
        "#From DecisionTree Classifier\n",
        "from sklearn.tree import DecisionTreeClassifier\n",
        "dt=DecisionTreeClassifier()"
      ],
      "execution_count": 0,
      "outputs": []
    },
    {
      "cell_type": "code",
      "metadata": {
        "id": "iNtJoZ2kRSID",
        "colab_type": "code",
        "colab": {},
        "outputId": "d97a9636-8e8c-4976-dff1-669b502a4008"
      },
      "source": [
        "dt.fit(x_train,y_train)\n",
        "dt.score(x_train,y_train)\n",
        "preddt=dt.predict(x_test)\n",
        "print(accuracy_score(y_test,preddt))\n",
        "print(confusion_matrix(y_test,preddt))\n",
        "print(classification_report(y_test,preddt))"
      ],
      "execution_count": 0,
      "outputs": [
        {
          "output_type": "stream",
          "text": [
            "0.90625\n",
            "[[ 1  2]\n",
            " [ 1 28]]\n",
            "              precision    recall  f1-score   support\n",
            "\n",
            "           0       0.50      0.33      0.40         3\n",
            "           1       0.93      0.97      0.95        29\n",
            "\n",
            "    accuracy                           0.91        32\n",
            "   macro avg       0.72      0.65      0.67        32\n",
            "weighted avg       0.89      0.91      0.90        32\n",
            "\n"
          ],
          "name": "stdout"
        }
      ]
    },
    {
      "cell_type": "markdown",
      "metadata": {
        "id": "SDFj80RYRSII",
        "colab_type": "text"
      },
      "source": [
        "So here we get 90% Accuracy from Support Vector and DecisionTree Classifier"
      ]
    },
    {
      "cell_type": "code",
      "metadata": {
        "id": "4RPX3l8rRSIK",
        "colab_type": "code",
        "colab": {},
        "outputId": "e7cbd855-270b-4ebe-f588-e4a296780036"
      },
      "source": [
        "from sklearn.ensemble import GradientBoostingClassifier\n",
        "gbc=GradientBoostingClassifier()\n",
        "gbc.fit(x_train,y_train)\n",
        "gbc.score(x_train,y_train)\n",
        "predgbc=gbc.predict(x_test)\n",
        "print(accuracy_score(y_test,predgbc))\n",
        "print(confusion_matrix(y_test,predgbc))\n",
        "\n",
        "print(classification_report(y_test,predgbc))"
      ],
      "execution_count": 0,
      "outputs": [
        {
          "output_type": "stream",
          "text": [
            "0.84375\n",
            "[[ 0  3]\n",
            " [ 2 27]]\n",
            "              precision    recall  f1-score   support\n",
            "\n",
            "           0       0.00      0.00      0.00         3\n",
            "           1       0.90      0.93      0.92        29\n",
            "\n",
            "    accuracy                           0.84        32\n",
            "   macro avg       0.45      0.47      0.46        32\n",
            "weighted avg       0.82      0.84      0.83        32\n",
            "\n"
          ],
          "name": "stdout"
        }
      ]
    },
    {
      "cell_type": "code",
      "metadata": {
        "id": "A_yX84bvRSIN",
        "colab_type": "code",
        "colab": {}
      },
      "source": [
        "from sklearn.model_selection import GridSearchCV"
      ],
      "execution_count": 0,
      "outputs": []
    },
    {
      "cell_type": "code",
      "metadata": {
        "id": "5lN2P-5FRSIQ",
        "colab_type": "code",
        "colab": {}
      },
      "source": [
        "parameters=[{'C':[1,10,100],'kernel':['linear']},\n",
        "            {'C':[1,10,100],'kernel':['rbf'],'gamma':[0.1,0.2,0.3,0.4,0.5,0.6,0.7,0.8,0.9]}]\n",
        "grid_search=GridSearchCV(estimator=classifier,\n",
        "                        param_grid=parameters,\n",
        "                        scoring='accuracy',\n",
        "                        cv=10,\n",
        "                        n_jobs=-1)\n",
        "grid_search=grid_search.fit(x_train,y_train)"
      ],
      "execution_count": 0,
      "outputs": []
    },
    {
      "cell_type": "code",
      "metadata": {
        "id": "ioFPrvh3RSIT",
        "colab_type": "code",
        "colab": {}
      },
      "source": [
        "accuracy=grid_search.best_score_"
      ],
      "execution_count": 0,
      "outputs": []
    },
    {
      "cell_type": "code",
      "metadata": {
        "id": "_1agrBvFRSIW",
        "colab_type": "code",
        "colab": {},
        "outputId": "dc46b8f6-63fe-43a9-bdb2-675691804e87"
      },
      "source": [
        "accuracy"
      ],
      "execution_count": 0,
      "outputs": [
        {
          "output_type": "execute_result",
          "data": {
            "text/plain": [
              "0.9545454545454546"
            ]
          },
          "metadata": {
            "tags": []
          },
          "execution_count": 41
        }
      ]
    },
    {
      "cell_type": "markdown",
      "metadata": {
        "id": "oALrMHT0RSIZ",
        "colab_type": "text"
      },
      "source": [
        "95.45% Accuracy score"
      ]
    },
    {
      "cell_type": "markdown",
      "metadata": {
        "id": "fP-yYoXfRSIa",
        "colab_type": "text"
      },
      "source": [
        "Comparision of Algorithm\n",
        "Name of Algorithm       Accuracy Score\n",
        "LogisticRegression            90%\n",
        "DecisionTreeClassifier         90%\n",
        "SVM                            90%\n",
        "GridSearchCV                   95%\n"
      ]
    },
    {
      "cell_type": "markdown",
      "metadata": {
        "id": "PKp07QwORSIb",
        "colab_type": "text"
      },
      "source": [
        "Conclusion and Recommendations-\n",
        "The main objective of this project is to increase the effectiveness of the admission scenario of Engineering Colleges,which was successfully met through data analysis ,visualization and analytical model building.A target customer profile established while classification and regression models were Built to predict students response to the improvement of college facility.\n",
        "\n",
        "\n",
        "From after applying all algorithm we can see that Grid SearchCV is producing best Accuracy Score.\n",
        "This is the biggest problems in engineering colleges regarding Admission,because now a \n",
        "\n",
        "days engineering colleges also not maintain there basic requirement e.g teacher students ratio,Updated Laboratory,\n",
        "Research facility,placement .\n"
      ]
    }
  ]
}